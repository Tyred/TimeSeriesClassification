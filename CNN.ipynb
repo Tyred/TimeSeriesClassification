{
  "nbformat": 4,
  "nbformat_minor": 0,
  "metadata": {
    "colab": {
      "name": "CNN.ipynb",
      "provenance": [],
      "collapsed_sections": [],
      "mount_file_id": "1O6DmDk-YCQVnTMtamJnCJYY08VgiyKfV",
      "authorship_tag": "ABX9TyNoD8EZq3YnjuIDWLvS66E+",
      "include_colab_link": true
    },
    "kernelspec": {
      "name": "python3",
      "display_name": "Python 3"
    },
    "language_info": {
      "name": "python"
    },
    "accelerator": "GPU"
  },
  "cells": [
    {
      "cell_type": "markdown",
      "metadata": {
        "id": "view-in-github",
        "colab_type": "text"
      },
      "source": [
        "<a href=\"https://colab.research.google.com/github/Tyred/TimeSeriesClassification/blob/main/CNN.ipynb\" target=\"_parent\"><img src=\"https://colab.research.google.com/assets/colab-badge.svg\" alt=\"Open In Colab\"/></a>"
      ]
    },
    {
      "cell_type": "markdown",
      "metadata": {
        "id": "315fs7wKPku4"
      },
      "source": [
        "# Imports"
      ]
    },
    {
      "cell_type": "code",
      "metadata": {
        "id": "7vtGj6fx3xtu",
        "colab": {
          "base_uri": "https://localhost:8080/"
        },
        "outputId": "05d9ba0a-0412-4518-b18a-05f77eae70a9"
      },
      "source": [
        "!pip install -q -U tensorflow-addons\n",
        "!pip install tsaug"
      ],
      "execution_count": 1,
      "outputs": [
        {
          "output_type": "stream",
          "text": [
            "\u001b[?25l\r\u001b[K     |▌                               | 10kB 17.2MB/s eta 0:00:01\r\u001b[K     |█                               | 20kB 18.4MB/s eta 0:00:01\r\u001b[K     |█▌                              | 30kB 11.5MB/s eta 0:00:01\r\u001b[K     |██                              | 40kB 9.9MB/s eta 0:00:01\r\u001b[K     |██▍                             | 51kB 5.3MB/s eta 0:00:01\r\u001b[K     |███                             | 61kB 5.8MB/s eta 0:00:01\r\u001b[K     |███▍                            | 71kB 6.0MB/s eta 0:00:01\r\u001b[K     |███▉                            | 81kB 6.6MB/s eta 0:00:01\r\u001b[K     |████▍                           | 92kB 6.5MB/s eta 0:00:01\r\u001b[K     |████▉                           | 102kB 5.1MB/s eta 0:00:01\r\u001b[K     |█████▎                          | 112kB 5.1MB/s eta 0:00:01\r\u001b[K     |█████▉                          | 122kB 5.1MB/s eta 0:00:01\r\u001b[K     |██████▎                         | 133kB 5.1MB/s eta 0:00:01\r\u001b[K     |██████▊                         | 143kB 5.1MB/s eta 0:00:01\r\u001b[K     |███████▎                        | 153kB 5.1MB/s eta 0:00:01\r\u001b[K     |███████▊                        | 163kB 5.1MB/s eta 0:00:01\r\u001b[K     |████████▏                       | 174kB 5.1MB/s eta 0:00:01\r\u001b[K     |████████▊                       | 184kB 5.1MB/s eta 0:00:01\r\u001b[K     |█████████▏                      | 194kB 5.1MB/s eta 0:00:01\r\u001b[K     |█████████▋                      | 204kB 5.1MB/s eta 0:00:01\r\u001b[K     |██████████▏                     | 215kB 5.1MB/s eta 0:00:01\r\u001b[K     |██████████▋                     | 225kB 5.1MB/s eta 0:00:01\r\u001b[K     |███████████                     | 235kB 5.1MB/s eta 0:00:01\r\u001b[K     |███████████▋                    | 245kB 5.1MB/s eta 0:00:01\r\u001b[K     |████████████                    | 256kB 5.1MB/s eta 0:00:01\r\u001b[K     |████████████▌                   | 266kB 5.1MB/s eta 0:00:01\r\u001b[K     |█████████████                   | 276kB 5.1MB/s eta 0:00:01\r\u001b[K     |█████████████▌                  | 286kB 5.1MB/s eta 0:00:01\r\u001b[K     |██████████████                  | 296kB 5.1MB/s eta 0:00:01\r\u001b[K     |██████████████▌                 | 307kB 5.1MB/s eta 0:00:01\r\u001b[K     |███████████████                 | 317kB 5.1MB/s eta 0:00:01\r\u001b[K     |███████████████▍                | 327kB 5.1MB/s eta 0:00:01\r\u001b[K     |████████████████                | 337kB 5.1MB/s eta 0:00:01\r\u001b[K     |████████████████▍               | 348kB 5.1MB/s eta 0:00:01\r\u001b[K     |████████████████▉               | 358kB 5.1MB/s eta 0:00:01\r\u001b[K     |█████████████████▍              | 368kB 5.1MB/s eta 0:00:01\r\u001b[K     |█████████████████▉              | 378kB 5.1MB/s eta 0:00:01\r\u001b[K     |██████████████████▎             | 389kB 5.1MB/s eta 0:00:01\r\u001b[K     |██████████████████▉             | 399kB 5.1MB/s eta 0:00:01\r\u001b[K     |███████████████████▎            | 409kB 5.1MB/s eta 0:00:01\r\u001b[K     |███████████████████▊            | 419kB 5.1MB/s eta 0:00:01\r\u001b[K     |████████████████████▎           | 430kB 5.1MB/s eta 0:00:01\r\u001b[K     |████████████████████▊           | 440kB 5.1MB/s eta 0:00:01\r\u001b[K     |█████████████████████▏          | 450kB 5.1MB/s eta 0:00:01\r\u001b[K     |█████████████████████▊          | 460kB 5.1MB/s eta 0:00:01\r\u001b[K     |██████████████████████▏         | 471kB 5.1MB/s eta 0:00:01\r\u001b[K     |██████████████████████▋         | 481kB 5.1MB/s eta 0:00:01\r\u001b[K     |███████████████████████▏        | 491kB 5.1MB/s eta 0:00:01\r\u001b[K     |███████████████████████▋        | 501kB 5.1MB/s eta 0:00:01\r\u001b[K     |████████████████████████        | 512kB 5.1MB/s eta 0:00:01\r\u001b[K     |████████████████████████▋       | 522kB 5.1MB/s eta 0:00:01\r\u001b[K     |█████████████████████████       | 532kB 5.1MB/s eta 0:00:01\r\u001b[K     |█████████████████████████▌      | 542kB 5.1MB/s eta 0:00:01\r\u001b[K     |██████████████████████████      | 552kB 5.1MB/s eta 0:00:01\r\u001b[K     |██████████████████████████▌     | 563kB 5.1MB/s eta 0:00:01\r\u001b[K     |███████████████████████████     | 573kB 5.1MB/s eta 0:00:01\r\u001b[K     |███████████████████████████▌    | 583kB 5.1MB/s eta 0:00:01\r\u001b[K     |████████████████████████████    | 593kB 5.1MB/s eta 0:00:01\r\u001b[K     |████████████████████████████▍   | 604kB 5.1MB/s eta 0:00:01\r\u001b[K     |█████████████████████████████   | 614kB 5.1MB/s eta 0:00:01\r\u001b[K     |█████████████████████████████▍  | 624kB 5.1MB/s eta 0:00:01\r\u001b[K     |█████████████████████████████▉  | 634kB 5.1MB/s eta 0:00:01\r\u001b[K     |██████████████████████████████▍ | 645kB 5.1MB/s eta 0:00:01\r\u001b[K     |██████████████████████████████▉ | 655kB 5.1MB/s eta 0:00:01\r\u001b[K     |███████████████████████████████▎| 665kB 5.1MB/s eta 0:00:01\r\u001b[K     |███████████████████████████████▉| 675kB 5.1MB/s eta 0:00:01\r\u001b[K     |████████████████████████████████| 686kB 5.1MB/s \n",
            "\u001b[?25hCollecting tsaug\n",
            "  Downloading https://files.pythonhosted.org/packages/e8/6e/8b1be145a32bba360c14322c3b87ad93d6227c46528d482c84eefe54094b/tsaug-0.2.1-py3-none-any.whl\n",
            "Requirement already satisfied: numpy>=1.14 in /usr/local/lib/python3.7/dist-packages (from tsaug) (1.19.5)\n",
            "Requirement already satisfied: scipy>=1.1 in /usr/local/lib/python3.7/dist-packages (from tsaug) (1.4.1)\n",
            "Installing collected packages: tsaug\n",
            "Successfully installed tsaug-0.2.1\n"
          ],
          "name": "stdout"
        }
      ]
    },
    {
      "cell_type": "code",
      "metadata": {
        "id": "G27xedc-Pd11"
      },
      "source": [
        "import numpy as np\n",
        "import matplotlib.pyplot as plt\n",
        "import tensorflow as tf\n",
        "import tensorflow_addons as tfa\n",
        "\n",
        "from tensorflow import keras\n",
        "\n",
        "from tensorflow.keras.layers import Conv1D, Activation, Dense, Flatten, \\\n",
        "                                    MaxPooling1D, GlobalAveragePooling1D, Dropout\n",
        "\n",
        "from tsaug import TimeWarp, Crop, Quantize, Drift, Reverse\n",
        "%matplotlib inline"
      ],
      "execution_count": 2,
      "outputs": []
    },
    {
      "cell_type": "markdown",
      "metadata": {
        "id": "A1lhAtJ8kXzg"
      },
      "source": [
        "# Reading Dataset from UCR Archive"
      ]
    },
    {
      "cell_type": "code",
      "metadata": {
        "colab": {
          "base_uri": "https://localhost:8080/"
        },
        "id": "2YgAD0HHVpGM",
        "outputId": "0d335b78-4de1-4bc0-bca7-cf437ab8e6f7"
      },
      "source": [
        "path = 'drive/My Drive/UFSCar/FAPESP/IC/Data/UCRArchive_2018'\n",
        "\n",
        "dataset = input('Dataset: ')\n",
        "tr_data = np.genfromtxt(path + \"/\" + dataset + \"/\" + dataset + \"_TRAIN.tsv\", \n",
        "                        delimiter=\"\\t\",)\n",
        "te_data = np.genfromtxt(path + \"/\" + dataset + \"/\" + dataset + \"_TEST.tsv\", \n",
        "                        delimiter=\"\\t\",)\n",
        "\n",
        "train_labels = np.array([int(label) for label in tr_data[: ,0]]) \n",
        "test_labels  = np.array([int(label) for label in te_data[:, 0]])\n",
        "print(\"Labels:\", np.unique(train_labels))"
      ],
      "execution_count": 3,
      "outputs": [
        {
          "output_type": "stream",
          "text": [
            "Dataset: HandOutlines\n",
            "Labels: [0 1]\n"
          ],
          "name": "stdout"
        }
      ]
    },
    {
      "cell_type": "markdown",
      "metadata": {
        "id": "VGKA6VlYkhce"
      },
      "source": [
        "# Preprocessing"
      ]
    },
    {
      "cell_type": "code",
      "metadata": {
        "colab": {
          "base_uri": "https://localhost:8080/"
        },
        "id": "Uplualw9VwpR",
        "outputId": "fca5a4f3-2b11-420f-cf66-38b4507af3f1"
      },
      "source": [
        "num_classes = len(np.unique(train_labels))\n",
        "\n",
        "train_data  = tr_data[:, 1:] \n",
        "test_data   = te_data[:, 1:]\n",
        "print(\"Train data shape:\", train_data.shape)\n",
        "print(\"Test data shape:\", test_data.shape)\n",
        "\n",
        "serie_length = train_data.shape[1]"
      ],
      "execution_count": 4,
      "outputs": [
        {
          "output_type": "stream",
          "text": [
            "Train data shape: (1000, 2709)\n",
            "Test data shape: (370, 2709)\n"
          ],
          "name": "stdout"
        }
      ]
    },
    {
      "cell_type": "markdown",
      "metadata": {
        "id": "n7t2Ej3b6DYN"
      },
      "source": [
        "## Data Augmentation"
      ]
    },
    {
      "cell_type": "code",
      "metadata": {
        "colab": {
          "base_uri": "https://localhost:8080/",
          "height": 0
        },
        "id": "I4NSom2m6c6S",
        "outputId": "be439f5d-8f30-4a98-f392-211ce74bc82e"
      },
      "source": [
        "'''from tsaug.visualization import plot\n",
        "#print(train_data.shape)\n",
        "#plots, _ = plot(train_data)\n",
        "my_augmenter = (\n",
        "     TimeWarp() # random time warping 5 times in parallel\n",
        "     + Crop(size=serie_length)  # random crop subsequences with length 300\n",
        "     + Quantize(n_levels=[10, 20, 30])  # random quantize to 10-, 20-, or 30- level sets\n",
        "     + Drift(max_drift=(0.1, 0.5)) @ 0.8  # with 80% probability, random drift the signal up to 10% - 50%\n",
        "     + Reverse() @ 0.5  # with 50% probability, reverse the sequence\n",
        "     )\n",
        "#plots '''"
      ],
      "execution_count": 5,
      "outputs": [
        {
          "output_type": "execute_result",
          "data": {
            "application/vnd.google.colaboratory.intrinsic+json": {
              "type": "string"
            },
            "text/plain": [
              "'from tsaug.visualization import plot\\n#print(train_data.shape)\\n#plots, _ = plot(train_data)\\nmy_augmenter = (\\n     TimeWarp() # random time warping 5 times in parallel\\n     + Crop(size=serie_length)  # random crop subsequences with length 300\\n     + Quantize(n_levels=[10, 20, 30])  # random quantize to 10-, 20-, or 30- level sets\\n     + Drift(max_drift=(0.1, 0.5)) @ 0.8  # with 80% probability, random drift the signal up to 10% - 50%\\n     + Reverse() @ 0.5  # with 50% probability, reverse the sequence\\n     )\\n#plots '"
            ]
          },
          "metadata": {
            "tags": []
          },
          "execution_count": 5
        }
      ]
    },
    {
      "cell_type": "code",
      "metadata": {
        "colab": {
          "base_uri": "https://localhost:8080/",
          "height": 0
        },
        "id": "uzts1gtr72g4",
        "outputId": "ab774909-5f08-4c1c-af52-75bb56d5dc20"
      },
      "source": [
        "'''train_augmented  = [serie for serie in train_data]\n",
        "labels_augmented = [label for label in train_labels]\n",
        "\n",
        "for serie, label in zip(train_data, train_labels):\n",
        "    #for augmented in my_augmenter.augment(serie):\n",
        "    train_augmented.append(my_augmenter.augment(serie)) \n",
        "    labels_augmented.append(label)\n",
        "'''"
      ],
      "execution_count": 6,
      "outputs": [
        {
          "output_type": "execute_result",
          "data": {
            "application/vnd.google.colaboratory.intrinsic+json": {
              "type": "string"
            },
            "text/plain": [
              "'train_augmented  = [serie for serie in train_data]\\nlabels_augmented = [label for label in train_labels]\\n\\nfor serie, label in zip(train_data, train_labels):\\n    #for augmented in my_augmenter.augment(serie):\\n    train_augmented.append(my_augmenter.augment(serie)) \\n    labels_augmented.append(label)\\n'"
            ]
          },
          "metadata": {
            "tags": []
          },
          "execution_count": 6
        }
      ]
    },
    {
      "cell_type": "code",
      "metadata": {
        "colab": {
          "base_uri": "https://localhost:8080/",
          "height": 0
        },
        "id": "-vvBj5UQ_LAA",
        "outputId": "4d369d91-cfa3-49da-9cfb-2f64a86e75d2"
      },
      "source": [
        "'''train_data   = np.array(train_augmented)\n",
        "train_labels = np.array(labels_augmented)\n",
        "'''"
      ],
      "execution_count": 7,
      "outputs": [
        {
          "output_type": "execute_result",
          "data": {
            "application/vnd.google.colaboratory.intrinsic+json": {
              "type": "string"
            },
            "text/plain": [
              "'train_data   = np.array(train_augmented)\\ntrain_labels = np.array(labels_augmented)\\n'"
            ]
          },
          "metadata": {
            "tags": []
          },
          "execution_count": 7
        }
      ]
    },
    {
      "cell_type": "markdown",
      "metadata": {
        "id": "xN321UgU65OF"
      },
      "source": [
        "## Shuffle and Casting"
      ]
    },
    {
      "cell_type": "code",
      "metadata": {
        "colab": {
          "base_uri": "https://localhost:8080/"
        },
        "id": "-ZMtoT-66pyr",
        "outputId": "82517231-bcf3-4734-a284-e313ac05a1e2"
      },
      "source": [
        "# Shuffle train\n",
        "shuffle_idx   = np.random.RandomState(seed=42).permutation((len(train_data)))\n",
        "train_data    = np.array(train_data)[shuffle_idx]\n",
        "train_labels  = np.array(train_labels)[shuffle_idx]\n",
        "\n",
        "train_data = tf.cast(train_data, tf.float32)\n",
        "test_data  = tf.cast(test_data , tf.float32)\n",
        "\n",
        "train_data = tf.expand_dims(train_data, axis=-1)\n",
        "test_data  = tf.expand_dims(test_data , axis=-1)\n",
        "print(train_data.shape)\n",
        "print(test_data.shape)"
      ],
      "execution_count": 8,
      "outputs": [
        {
          "output_type": "stream",
          "text": [
            "(1000, 2709, 1)\n",
            "(370, 2709, 1)\n"
          ],
          "name": "stdout"
        }
      ]
    },
    {
      "cell_type": "markdown",
      "metadata": {
        "id": "ZEzoNBH_kR9i"
      },
      "source": [
        "# CNN Model"
      ]
    },
    {
      "cell_type": "code",
      "metadata": {
        "id": "5cn6tBDyPwGh"
      },
      "source": [
        "# Convolutional Autoencoder with MaxPooling:\n",
        "class CNN(tf.keras.Model):\n",
        "    def __init__(self, num_classes): #, serie_length):\n",
        "        super(CNN, self).__init__()\n",
        "        self.conv_1  = tfa.layers.WeightNormalization(\n",
        "                            Conv1D(filters=32, #32\n",
        "                                   kernel_size=3,\n",
        "                                   #padding='same', \n",
        "                                   kernel_initializer=\"he_uniform\", \n",
        "                                   kernel_regularizer=keras.regularizers.l2(1e-4))\n",
        "                            ) \n",
        "        self.gn_1    = tfa.layers.GroupNormalization(32)\n",
        "        self.act_1   = Activation('swish')\n",
        "        self.drop_1  = dropout = Dropout(0.1)\n",
        "        self.max_1   = MaxPooling1D(2)\n",
        "        \n",
        "        self.conv_2  = tfa.layers.WeightNormalization(\n",
        "                            Conv1D(filters=32, #32 \n",
        "                                   kernel_size=3,\n",
        "                                   #padding='same',\n",
        "                                   kernel_initializer=\"he_uniform\", \n",
        "                                   kernel_regularizer=keras.regularizers.l2(1e-4))\n",
        "                            )\n",
        "        self.gn_2    = tfa.layers.GroupNormalization(32)\n",
        "        self.act_2   = Activation('swish')\n",
        "        self.drop_2  = dropout = Dropout(0.1)\n",
        "        self.max_2   = MaxPooling1D(2)\n",
        "        \n",
        "        self.conv_3  = tfa.layers.WeightNormalization(\n",
        "                            Conv1D(filters=64, #64\n",
        "                                   kernel_size=3,\n",
        "                                   #padding='same',\n",
        "                                   kernel_initializer=\"he_uniform\", \n",
        "                                   kernel_regularizer=keras.regularizers.l2(1e-4))\n",
        "                            )\n",
        "        self.gn_3    = tfa.layers.GroupNormalization(32)\n",
        "        self.act_3   = Activation('swish')\n",
        "        self.drop_3  = dropout = Dropout(0.1)\n",
        "        self.max_3   = MaxPooling1D(2)\n",
        "\n",
        "        self.conv_4  = tfa.layers.WeightNormalization(\n",
        "                            Conv1D(filters=128, #128 \n",
        "                                   kernel_size=3,\n",
        "                                   #padding='same',\n",
        "                                   kernel_initializer=\"he_uniform\", \n",
        "                                   kernel_regularizer=keras.regularizers.l2(1e-4))\n",
        "                            )\n",
        "        self.gn_4    = tfa.layers.GroupNormalization(32)\n",
        "        self.act_4   = Activation('swish')\n",
        "        self.drop_4  = dropout = Dropout(0.1)\n",
        "        self.max_4   = MaxPooling1D(2)\n",
        "\n",
        "        self.flatten = Flatten()\n",
        "        \n",
        "        self.dense_1 = tfa.layers.WeightNormalization(\n",
        "                            Dense(128, activation='swish',\n",
        "                                  kernel_initializer=\"he_uniform\", \n",
        "                                  kernel_regularizer=keras.regularizers.l2(1e-4))\n",
        "                            )\n",
        "        self.drop_5  = dropout = Dropout(0.5)\n",
        "\n",
        "        self.clf     = tfa.layers.WeightNormalization(\n",
        "                            Dense(num_classes, activation='softmax'))\n",
        "\n",
        "    def call(self, inputs):\n",
        "        x = self.conv_1(inputs)\n",
        "        x = self.gn_1(x)\n",
        "        x = self.act_1(x)\n",
        "        x = self.drop_1(x)\n",
        "        x = self.max_1(x)\n",
        "\n",
        "        x = self.conv_2(x)\n",
        "        x = self.gn_2(x)\n",
        "        x = self.act_2(x)\n",
        "        x = self.drop_2(x)\n",
        "        x = self.max_2(x)\n",
        "\n",
        "        x = self.conv_3(x)\n",
        "        x = self.gn_3(x)\n",
        "        x = self.act_3(x)\n",
        "        x = self.drop_3(x)\n",
        "        x = self.max_3(x)\n",
        "\n",
        "        x = self.conv_4(x)\n",
        "        x = self.gn_4(x)\n",
        "        x = self.act_4(x)\n",
        "        x = self.drop_4(x)\n",
        "        x = self.max_4(x)\n",
        "        \n",
        "        x = self.flatten(x)\n",
        "        \n",
        "        x = self.dense_1(x)\n",
        "        x = self.drop_5(x)\n",
        "        \n",
        "        return self.clf(x)\n",
        "\n",
        "    def model(self):\n",
        "        x = keras.layers.Input(shape=(serie_length, 1))\n",
        "        return tf.keras.Model(inputs=[x], outputs=self.call(x))"
      ],
      "execution_count": 9,
      "outputs": []
    },
    {
      "cell_type": "code",
      "metadata": {
        "id": "NjYxvzzTqK2A"
      },
      "source": [
        "cnn = CNN(num_classes)"
      ],
      "execution_count": 10,
      "outputs": []
    },
    {
      "cell_type": "code",
      "metadata": {
        "colab": {
          "base_uri": "https://localhost:8080/"
        },
        "id": "wH-TZxyH2Wps",
        "outputId": "b6d42ddc-754f-46fb-8ea8-4a401de3d3be"
      },
      "source": [
        "cnn.model().summary()"
      ],
      "execution_count": 11,
      "outputs": [
        {
          "output_type": "stream",
          "text": [
            "Model: \"model\"\n",
            "_________________________________________________________________\n",
            "Layer (type)                 Output Shape              Param #   \n",
            "=================================================================\n",
            "input_1 (InputLayer)         [(None, 2709, 1)]         0         \n",
            "_________________________________________________________________\n",
            "weight_normalization (Weight (None, 2707, 32)          289       \n",
            "_________________________________________________________________\n",
            "group_normalization (GroupNo (None, 2707, 32)          64        \n",
            "_________________________________________________________________\n",
            "activation (Activation)      (None, 2707, 32)          0         \n",
            "_________________________________________________________________\n",
            "dropout (Dropout)            (None, 2707, 32)          0         \n",
            "_________________________________________________________________\n",
            "max_pooling1d (MaxPooling1D) (None, 1353, 32)          0         \n",
            "_________________________________________________________________\n",
            "weight_normalization_1 (Weig (None, 1351, 32)          6241      \n",
            "_________________________________________________________________\n",
            "group_normalization_1 (Group (None, 1351, 32)          64        \n",
            "_________________________________________________________________\n",
            "activation_1 (Activation)    (None, 1351, 32)          0         \n",
            "_________________________________________________________________\n",
            "dropout_1 (Dropout)          (None, 1351, 32)          0         \n",
            "_________________________________________________________________\n",
            "max_pooling1d_1 (MaxPooling1 (None, 675, 32)           0         \n",
            "_________________________________________________________________\n",
            "weight_normalization_2 (Weig (None, 673, 64)           12481     \n",
            "_________________________________________________________________\n",
            "group_normalization_2 (Group (None, 673, 64)           128       \n",
            "_________________________________________________________________\n",
            "activation_2 (Activation)    (None, 673, 64)           0         \n",
            "_________________________________________________________________\n",
            "dropout_2 (Dropout)          (None, 673, 64)           0         \n",
            "_________________________________________________________________\n",
            "max_pooling1d_2 (MaxPooling1 (None, 336, 64)           0         \n",
            "_________________________________________________________________\n",
            "weight_normalization_3 (Weig (None, 334, 128)          49537     \n",
            "_________________________________________________________________\n",
            "group_normalization_3 (Group (None, 334, 128)          256       \n",
            "_________________________________________________________________\n",
            "activation_3 (Activation)    (None, 334, 128)          0         \n",
            "_________________________________________________________________\n",
            "dropout_3 (Dropout)          (None, 334, 128)          0         \n",
            "_________________________________________________________________\n",
            "max_pooling1d_3 (MaxPooling1 (None, 167, 128)          0         \n",
            "_________________________________________________________________\n",
            "flatten (Flatten)            (None, 21376)             0         \n",
            "_________________________________________________________________\n",
            "weight_normalization_4 (Weig (None, 128)               5472641   \n",
            "_________________________________________________________________\n",
            "dropout_4 (Dropout)          (None, 128)               0         \n",
            "_________________________________________________________________\n",
            "weight_normalization_5 (Weig (None, 2)                 519       \n",
            "=================================================================\n",
            "Total params: 5,542,220\n",
            "Trainable params: 2,771,556\n",
            "Non-trainable params: 2,770,664\n",
            "_________________________________________________________________\n"
          ],
          "name": "stdout"
        }
      ]
    },
    {
      "cell_type": "markdown",
      "metadata": {
        "id": "PvRRoDZmkjsf"
      },
      "source": [
        "# Train"
      ]
    },
    {
      "cell_type": "code",
      "metadata": {
        "id": "4uIZgOJFWXHu"
      },
      "source": [
        "initial_learning_rate = 1e-3\n",
        "lr_schedule = tf.keras.optimizers.schedules.ExponentialDecay(\n",
        "    initial_learning_rate,\n",
        "    decay_steps = 65,\n",
        "    decay_rate = 0.9,\n",
        "    staircase = False\n",
        ")\n",
        "\n",
        "cnn.compile(optimizer=keras.optimizers.Adam(learning_rate=lr_schedule),\n",
        "            loss='sparse_categorical_crossentropy',\n",
        "            metrics=['accuracy'])\n",
        "\n",
        "batch_size = 32\n",
        "epochs = 60\n",
        "\n",
        "history = cnn.fit(train_data, train_labels, \n",
        "          epochs=epochs,\n",
        "          batch_size=batch_size)"
      ],
      "execution_count": null,
      "outputs": []
    },
    {
      "cell_type": "code",
      "metadata": {
        "colab": {
          "base_uri": "https://localhost:8080/",
          "height": 295
        },
        "id": "ZPeYoaKlq5Ky",
        "outputId": "79732bda-7b8e-4ce0-c5bf-e3ea64f39e7d"
      },
      "source": [
        "plt.plot(history.history['accuracy'])\n",
        "plt.title('model accuracy')\n",
        "plt.ylabel('accuracy')\n",
        "plt.xlabel('epoch')\n",
        "plt.legend(['train'], loc='upper left')\n",
        "plt.show()"
      ],
      "execution_count": 236,
      "outputs": [
        {
          "output_type": "display_data",
          "data": {
            "image/png": "[encoded data removed]",
            "text/plain": [
              "<Figure size 432x288 with 1 Axes>"
            ]
          },
          "metadata": {
            "tags": [],
            "needs_background": "light"
          }
        }
      ]
    },
    {
      "cell_type": "code",
      "metadata": {
        "colab": {
          "base_uri": "https://localhost:8080/",
          "height": 295
        },
        "id": "ZprllFEO3SO2",
        "outputId": "cbd876e4-ebba-4718-bd54-c23fa23df658"
      },
      "source": [
        "plt.plot(history.history['loss'])\n",
        "plt.title('model loss')\n",
        "plt.ylabel('loss')\n",
        "plt.xlabel('epoch')\n",
        "plt.legend(['train'], loc='upper left')\n",
        "plt.show()"
      ],
      "execution_count": 237,
      "outputs": [
        {
          "output_type": "display_data",
          "data": {
            "image/png": "[encoded data removed]",
            "text/plain": [
              "<Figure size 432x288 with 1 Axes>"
            ]
          },
          "metadata": {
            "tags": [],
            "needs_background": "light"
          }
        }
      ]
    },
    {
      "cell_type": "markdown",
      "metadata": {
        "id": "dLzoyucBklnp"
      },
      "source": [
        "# Test"
      ]
    },
    {
      "cell_type": "code",
      "metadata": {
        "colab": {
          "base_uri": "https://localhost:8080/"
        },
        "id": "EvXvIImscy-_",
        "outputId": "9e9e578f-5e4d-4c59-f1ff-b41827554a1e"
      },
      "source": [
        "_, acc = cnn.evaluate(test_data, test_labels, verbose = False)\n",
        "\n",
        "print('Accuracy = %.2f' % (acc*100) + '%')"
      ],
      "execution_count": 238,
      "outputs": [
        {
          "output_type": "stream",
          "text": [
            "Accuracy = 89.46%\n"
          ],
          "name": "stdout"
        }
      ]
    }
  ]
}