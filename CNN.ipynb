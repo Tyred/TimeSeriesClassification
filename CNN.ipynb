{
  "nbformat": 4,
  "nbformat_minor": 0,
  "metadata": {
    "colab": {
      "name": "CNN.ipynb",
      "provenance": [],
      "collapsed_sections": [],
      "mount_file_id": "1O6DmDk-YCQVnTMtamJnCJYY08VgiyKfV",
      "authorship_tag": "ABX9TyN9KEiqZS9R94nAF3y5HbaV",
      "include_colab_link": true
    },
    "kernelspec": {
      "name": "python3",
      "display_name": "Python 3"
    },
    "language_info": {
      "name": "python"
    },
    "accelerator": "GPU"
  },
  "cells": [
    {
      "cell_type": "markdown",
      "metadata": {
        "id": "view-in-github",
        "colab_type": "text"
      },
      "source": [
        "<a href=\"https://colab.research.google.com/github/Tyred/TimeSeriesClassification/blob/main/CNN.ipynb\" target=\"_parent\"><img src=\"https://colab.research.google.com/assets/colab-badge.svg\" alt=\"Open In Colab\"/></a>"
      ]
    },
    {
      "cell_type": "markdown",
      "metadata": {
        "id": "315fs7wKPku4"
      },
      "source": [
        "# Imports"
      ]
    },
    {
      "cell_type": "code",
      "metadata": {
        "id": "7vtGj6fx3xtu"
      },
      "source": [
        "!pip install -q -U tensorflow-addons"
      ],
      "execution_count": 426,
      "outputs": []
    },
    {
      "cell_type": "code",
      "metadata": {
        "id": "G27xedc-Pd11"
      },
      "source": [
        "import numpy as np\n",
        "import matplotlib.pyplot as plt\n",
        "import tensorflow as tf\n",
        "import tensorflow_addons as tfa\n",
        "\n",
        "from tensorflow import keras\n",
        "\n",
        "from tensorflow.keras.layers import Conv1D, Activation, Dense, Flatten, \\\n",
        "                                    MaxPooling1D, GlobalAveragePooling1D, Dropout\n",
        "%matplotlib inline"
      ],
      "execution_count": 427,
      "outputs": []
    },
    {
      "cell_type": "markdown",
      "metadata": {
        "id": "A1lhAtJ8kXzg"
      },
      "source": [
        "# Reading Dataset from UCR Archive"
      ]
    },
    {
      "cell_type": "code",
      "metadata": {
        "colab": {
          "base_uri": "https://localhost:8080/"
        },
        "id": "2YgAD0HHVpGM",
        "outputId": "056ed39b-454f-40fc-fd85-444b85eaa6ec"
      },
      "source": [
        "path = 'drive/My Drive/UFSCar/FAPESP/IC/Data/UCRArchive_2018'\n",
        "\n",
        "dataset = input('Dataset: ')\n",
        "tr_data = np.genfromtxt(path + \"/\" + dataset + \"/\" + dataset + \"_TRAIN.tsv\", \n",
        "                        delimiter=\"\\t\",)\n",
        "te_data = np.genfromtxt(path + \"/\" + dataset + \"/\" + dataset + \"_TEST.tsv\", \n",
        "                        delimiter=\"\\t\",)\n",
        "\n",
        "train_labels = np.array([int(label) for label in tr_data[: ,0]]) \n",
        "test_labels  = np.array([int(label) for label in te_data[:, 0]])\n",
        "print(\"Labels:\", np.unique(train_labels))"
      ],
      "execution_count": 428,
      "outputs": [
        {
          "output_type": "stream",
          "text": [
            "Dataset: HandOutlines\n",
            "Labels: [0 1]\n"
          ],
          "name": "stdout"
        }
      ]
    },
    {
      "cell_type": "markdown",
      "metadata": {
        "id": "VGKA6VlYkhce"
      },
      "source": [
        "# Some preprocessing"
      ]
    },
    {
      "cell_type": "code",
      "metadata": {
        "colab": {
          "base_uri": "https://localhost:8080/"
        },
        "id": "Uplualw9VwpR",
        "outputId": "d14ecfe5-7486-43f1-9f84-9bda294c06a5"
      },
      "source": [
        "num_classes = len(np.unique(train_labels))\n",
        "\n",
        "train_data  = tr_data[:, 1:] \n",
        "test_data   = te_data[:, 1:]\n",
        "\n",
        "train_data = tf.cast(train_data, tf.float32)\n",
        "test_data  = tf.cast(test_data , tf.float32)\n",
        "\n",
        "train_data = tf.expand_dims(train_data, axis=-1)\n",
        "test_data  = tf.expand_dims(test_data , axis=-1)\n",
        "\n",
        "print(\"Train data shape:\", train_data.shape)\n",
        "print(\"Test data shape:\", test_data.shape)\n",
        "\n",
        "serie_length = train_data.shape[1]"
      ],
      "execution_count": 429,
      "outputs": [
        {
          "output_type": "stream",
          "text": [
            "Train data shape: (1000, 2709, 1)\n",
            "Test data shape: (370, 2709, 1)\n"
          ],
          "name": "stdout"
        }
      ]
    },
    {
      "cell_type": "markdown",
      "metadata": {
        "id": "ZEzoNBH_kR9i"
      },
      "source": [
        "# CNN Model"
      ]
    },
    {
      "cell_type": "code",
      "metadata": {
        "id": "5cn6tBDyPwGh"
      },
      "source": [
        "# Convolutional Autoencoder with MaxPooling:\n",
        "class CNN(tf.keras.Model):\n",
        "    def __init__(self, num_classes): #, serie_length):\n",
        "        super(CNN, self).__init__()\n",
        "        self.conv_1  = Conv1D(filters=64,\n",
        "                              kernel_size=3,\n",
        "                              activation='swish', padding='same',\n",
        "                              kernel_initializer=\"he_uniform\", \n",
        "                              kernel_regularizer=keras.regularizers.l2(1e-4)) \n",
        "        self.gn_1    = tfa.layers.GroupNormalization(32)\n",
        "        self.max_1   = MaxPooling1D(2)\n",
        "        \n",
        "        self.conv_2  = Conv1D(filters=128, \n",
        "                              kernel_size=3,\n",
        "                              activation='swish', padding='same',\n",
        "                              kernel_initializer=\"he_uniform\", \n",
        "                              kernel_regularizer=keras.regularizers.l2(1e-4))\n",
        "        self.gn_2    = tfa.layers.GroupNormalization(32)\n",
        "        self.max_2   = MaxPooling1D(2)\n",
        "        \n",
        "        self.conv_3  = Conv1D(filters=256, \n",
        "                              kernel_size=3,\n",
        "                              activation='swish', padding='same',\n",
        "                              kernel_initializer=\"he_uniform\", \n",
        "                              kernel_regularizer=keras.regularizers.l2(1e-4))\n",
        "        self.gn_3    = tfa.layers.GroupNormalization(32)\n",
        "        self.max_3   = MaxPooling1D(2)\n",
        "\n",
        "        self.conv_4  = Conv1D(filters=512, \n",
        "                              kernel_size=3,\n",
        "                              activation='swish', padding='same',\n",
        "                              kernel_initializer=\"he_uniform\", \n",
        "                              kernel_regularizer=keras.regularizers.l2(1e-4))\n",
        "        self.gn_4    = tfa.layers.GroupNormalization(32)\n",
        "        self.max_4   = MaxPooling1D(2)\n",
        "\n",
        "        self.flatten = Flatten()\n",
        "        \n",
        "        #self.avg     = GlobalAveragePooling1D()\n",
        "\n",
        "        self.dense_1 = Dense(512, activation='swish')\n",
        "        self.dropout = dropout = Dropout(0.5)\n",
        "        self.clf     = Dense(num_classes, activation='softmax')\n",
        "     \n",
        "    def call(self, inputs):\n",
        "        x = self.conv_1(inputs)\n",
        "        x = self.gn_1(x)\n",
        "        x = self.max_1(x)\n",
        "\n",
        "        x = self.conv_2(x)\n",
        "        x = self.gn_2(x)\n",
        "        x = self.max_2(x)\n",
        "\n",
        "        x = self.conv_3(x)\n",
        "        x = self.gn_3(x)\n",
        "        x = self.max_3(x)\n",
        "\n",
        "        x = self.conv_4(x)\n",
        "        x = self.gn_4(x)\n",
        "        x = self.max_4(x)\n",
        "\n",
        "        x = self.flatten(x)\n",
        "        #x = self.avg(x)\n",
        "        x = self.dense_1(x)\n",
        "        x = self.dropout(x)\n",
        "        return self.clf(x)\n",
        "\n",
        "    def model(self):\n",
        "        x = keras.layers.Input(shape=(serie_length, 1))\n",
        "        return tf.keras.Model(inputs=[x], outputs=self.call(x))"
      ],
      "execution_count": 430,
      "outputs": []
    },
    {
      "cell_type": "code",
      "metadata": {
        "id": "NjYxvzzTqK2A"
      },
      "source": [
        "cnn = CNN(num_classes)"
      ],
      "execution_count": 431,
      "outputs": []
    },
    {
      "cell_type": "code",
      "metadata": {
        "colab": {
          "base_uri": "https://localhost:8080/"
        },
        "id": "wH-TZxyH2Wps",
        "outputId": "56acfc5d-7694-4eb0-80b6-ca50cdd7f102"
      },
      "source": [
        "cnn.model().summary()"
      ],
      "execution_count": 432,
      "outputs": [
        {
          "output_type": "stream",
          "text": [
            "Model: \"model_38\"\n",
            "_________________________________________________________________\n",
            "Layer (type)                 Output Shape              Param #   \n",
            "=================================================================\n",
            "input_43 (InputLayer)        [(None, 2709, 1)]         0         \n",
            "_________________________________________________________________\n",
            "conv1d_240 (Conv1D)          (None, 2709, 64)          256       \n",
            "_________________________________________________________________\n",
            "group_normalization_240 (Gro (None, 2709, 64)          128       \n",
            "_________________________________________________________________\n",
            "max_pooling1d_240 (MaxPoolin (None, 1354, 64)          0         \n",
            "_________________________________________________________________\n",
            "conv1d_241 (Conv1D)          (None, 1354, 128)         24704     \n",
            "_________________________________________________________________\n",
            "group_normalization_241 (Gro (None, 1354, 128)         256       \n",
            "_________________________________________________________________\n",
            "max_pooling1d_241 (MaxPoolin (None, 677, 128)          0         \n",
            "_________________________________________________________________\n",
            "conv1d_242 (Conv1D)          (None, 677, 256)          98560     \n",
            "_________________________________________________________________\n",
            "group_normalization_242 (Gro (None, 677, 256)          512       \n",
            "_________________________________________________________________\n",
            "max_pooling1d_242 (MaxPoolin (None, 338, 256)          0         \n",
            "_________________________________________________________________\n",
            "conv1d_243 (Conv1D)          (None, 338, 512)          393728    \n",
            "_________________________________________________________________\n",
            "group_normalization_243 (Gro (None, 338, 512)          1024      \n",
            "_________________________________________________________________\n",
            "max_pooling1d_243 (MaxPoolin (None, 169, 512)          0         \n",
            "_________________________________________________________________\n",
            "flatten_57 (Flatten)         (None, 86528)             0         \n",
            "_________________________________________________________________\n",
            "dense_120 (Dense)            (None, 512)               44302848  \n",
            "_________________________________________________________________\n",
            "dropout_60 (Dropout)         (None, 512)               0         \n",
            "_________________________________________________________________\n",
            "dense_121 (Dense)            (None, 2)                 1026      \n",
            "=================================================================\n",
            "Total params: 44,823,042\n",
            "Trainable params: 44,823,042\n",
            "Non-trainable params: 0\n",
            "_________________________________________________________________\n"
          ],
          "name": "stdout"
        }
      ]
    },
    {
      "cell_type": "markdown",
      "metadata": {
        "id": "PvRRoDZmkjsf"
      },
      "source": [
        "# Train"
      ]
    },
    {
      "cell_type": "code",
      "metadata": {
        "colab": {
          "base_uri": "https://localhost:8080/"
        },
        "id": "4uIZgOJFWXHu",
        "outputId": "cea85759-fc7e-4fcb-d5ec-2eea4d43c275"
      },
      "source": [
        "cnn.compile(optimizer='adam', loss='sparse_categorical_crossentropy',\n",
        "            metrics=['accuracy'])\n",
        "\n",
        "batch_size = 32\n",
        "epochs = 50\n",
        "\n",
        "history = cnn.fit(train_data, train_labels, \n",
        "          epochs=epochs, \n",
        "          batch_size=batch_size)"
      ],
      "execution_count": 433,
      "outputs": [
        {
          "output_type": "stream",
          "text": [
            "Epoch 1/50\n",
            "32/32 [==============================] - 3s 59ms/step - loss: 18.4876 - accuracy: 0.7040\n",
            "Epoch 2/50\n",
            "32/32 [==============================] - 2s 57ms/step - loss: 1.2336 - accuracy: 0.8080\n",
            "Epoch 3/50\n",
            "32/32 [==============================] - 2s 58ms/step - loss: 0.7126 - accuracy: 0.8250\n",
            "Epoch 4/50\n",
            "32/32 [==============================] - 2s 58ms/step - loss: 0.7155 - accuracy: 0.8210\n",
            "Epoch 5/50\n",
            "32/32 [==============================] - 2s 58ms/step - loss: 0.6310 - accuracy: 0.8230\n",
            "Epoch 6/50\n",
            "32/32 [==============================] - 2s 58ms/step - loss: 0.6129 - accuracy: 0.8480\n",
            "Epoch 7/50\n",
            "32/32 [==============================] - 2s 58ms/step - loss: 0.6065 - accuracy: 0.8520\n",
            "Epoch 8/50\n",
            "32/32 [==============================] - 2s 59ms/step - loss: 0.6532 - accuracy: 0.8490\n",
            "Epoch 9/50\n",
            "32/32 [==============================] - 2s 58ms/step - loss: 0.6750 - accuracy: 0.8400\n",
            "Epoch 10/50\n",
            "32/32 [==============================] - 2s 58ms/step - loss: 0.6710 - accuracy: 0.8480\n",
            "Epoch 11/50\n",
            "32/32 [==============================] - 2s 58ms/step - loss: 0.7949 - accuracy: 0.8350\n",
            "Epoch 12/50\n",
            "32/32 [==============================] - 2s 58ms/step - loss: 0.7231 - accuracy: 0.8300\n",
            "Epoch 13/50\n",
            "32/32 [==============================] - 2s 58ms/step - loss: 0.6367 - accuracy: 0.8380\n",
            "Epoch 14/50\n",
            "32/32 [==============================] - 2s 58ms/step - loss: 0.6196 - accuracy: 0.8360\n",
            "Epoch 15/50\n",
            "32/32 [==============================] - 2s 58ms/step - loss: 0.6303 - accuracy: 0.8410\n",
            "Epoch 16/50\n",
            "32/32 [==============================] - 2s 58ms/step - loss: 0.6216 - accuracy: 0.8440\n",
            "Epoch 17/50\n",
            "32/32 [==============================] - 2s 58ms/step - loss: 0.5940 - accuracy: 0.8550\n",
            "Epoch 18/50\n",
            "32/32 [==============================] - 2s 58ms/step - loss: 0.6594 - accuracy: 0.8210\n",
            "Epoch 19/50\n",
            "32/32 [==============================] - 2s 58ms/step - loss: 0.6170 - accuracy: 0.8260\n",
            "Epoch 20/50\n",
            "32/32 [==============================] - 2s 58ms/step - loss: 0.6366 - accuracy: 0.8270\n",
            "Epoch 21/50\n",
            "32/32 [==============================] - 2s 58ms/step - loss: 0.6076 - accuracy: 0.8310\n",
            "Epoch 22/50\n",
            "32/32 [==============================] - 2s 58ms/step - loss: 0.6073 - accuracy: 0.8300\n",
            "Epoch 23/50\n",
            "32/32 [==============================] - 2s 58ms/step - loss: 0.5931 - accuracy: 0.8420\n",
            "Epoch 24/50\n",
            "32/32 [==============================] - 2s 58ms/step - loss: 0.5826 - accuracy: 0.8430\n",
            "Epoch 25/50\n",
            "32/32 [==============================] - 2s 58ms/step - loss: 0.6405 - accuracy: 0.8450\n",
            "Epoch 26/50\n",
            "32/32 [==============================] - 2s 57ms/step - loss: 0.6217 - accuracy: 0.8610\n",
            "Epoch 27/50\n",
            "32/32 [==============================] - 2s 58ms/step - loss: 0.6299 - accuracy: 0.8300\n",
            "Epoch 28/50\n",
            "32/32 [==============================] - 2s 57ms/step - loss: 0.6044 - accuracy: 0.8500\n",
            "Epoch 29/50\n",
            "32/32 [==============================] - 2s 57ms/step - loss: 0.5883 - accuracy: 0.8550\n",
            "Epoch 30/50\n",
            "32/32 [==============================] - 2s 57ms/step - loss: 0.5754 - accuracy: 0.8620\n",
            "Epoch 31/50\n",
            "32/32 [==============================] - 2s 57ms/step - loss: 0.6292 - accuracy: 0.8620\n",
            "Epoch 32/50\n",
            "32/32 [==============================] - 2s 57ms/step - loss: 0.5700 - accuracy: 0.8610\n",
            "Epoch 33/50\n",
            "32/32 [==============================] - 2s 57ms/step - loss: 0.5706 - accuracy: 0.8690\n",
            "Epoch 34/50\n",
            "32/32 [==============================] - 2s 57ms/step - loss: 0.6028 - accuracy: 0.8490\n",
            "Epoch 35/50\n",
            "32/32 [==============================] - 2s 57ms/step - loss: 0.5695 - accuracy: 0.8530\n",
            "Epoch 36/50\n",
            "32/32 [==============================] - 2s 58ms/step - loss: 0.5765 - accuracy: 0.8530\n",
            "Epoch 37/50\n",
            "32/32 [==============================] - 2s 57ms/step - loss: 0.5564 - accuracy: 0.8630\n",
            "Epoch 38/50\n",
            "32/32 [==============================] - 2s 57ms/step - loss: 0.5414 - accuracy: 0.8640\n",
            "Epoch 39/50\n",
            "32/32 [==============================] - 2s 57ms/step - loss: 0.5499 - accuracy: 0.8660\n",
            "Epoch 40/50\n",
            "32/32 [==============================] - 2s 57ms/step - loss: 0.5561 - accuracy: 0.8720\n",
            "Epoch 41/50\n",
            "32/32 [==============================] - 2s 57ms/step - loss: 0.5604 - accuracy: 0.8620\n",
            "Epoch 42/50\n",
            "32/32 [==============================] - 2s 57ms/step - loss: 0.5591 - accuracy: 0.8540\n",
            "Epoch 43/50\n",
            "32/32 [==============================] - 2s 57ms/step - loss: 0.5617 - accuracy: 0.8480\n",
            "Epoch 44/50\n",
            "32/32 [==============================] - 2s 57ms/step - loss: 0.5887 - accuracy: 0.8400\n",
            "Epoch 45/50\n",
            "32/32 [==============================] - 2s 58ms/step - loss: 0.5444 - accuracy: 0.8580\n",
            "Epoch 46/50\n",
            "32/32 [==============================] - 2s 57ms/step - loss: 0.5428 - accuracy: 0.8590\n",
            "Epoch 47/50\n",
            "32/32 [==============================] - 2s 57ms/step - loss: 0.5638 - accuracy: 0.8520\n",
            "Epoch 48/50\n",
            "32/32 [==============================] - 2s 57ms/step - loss: 0.5275 - accuracy: 0.8790\n",
            "Epoch 49/50\n",
            "32/32 [==============================] - 2s 57ms/step - loss: 0.5364 - accuracy: 0.8580\n",
            "Epoch 50/50\n",
            "32/32 [==============================] - 2s 58ms/step - loss: 0.5134 - accuracy: 0.8810\n"
          ],
          "name": "stdout"
        }
      ]
    },
    {
      "cell_type": "code",
      "metadata": {
        "colab": {
          "base_uri": "https://localhost:8080/",
          "height": 295
        },
        "id": "ZPeYoaKlq5Ky",
        "outputId": "2076801a-80a7-43a2-d73c-81c04d5ca7f3"
      },
      "source": [
        "plt.plot(history.history['accuracy'])\n",
        "plt.title('model accuracy')\n",
        "plt.ylabel('accuracy')\n",
        "plt.xlabel('epoch')\n",
        "plt.legend(['train'], loc='upper left')\n",
        "plt.show()"
      ],
      "execution_count": 434,
      "outputs": [
        {
          "output_type": "display_data",
          "data": {
            "image/png": "[encoded data removed]",
            "text/plain": [
              "<Figure size 432x288 with 1 Axes>"
            ]
          },
          "metadata": {
            "tags": [],
            "needs_background": "light"
          }
        }
      ]
    },
    {
      "cell_type": "code",
      "metadata": {
        "colab": {
          "base_uri": "https://localhost:8080/",
          "height": 295
        },
        "id": "ZprllFEO3SO2",
        "outputId": "f21f295f-69ab-47d7-ee4e-2f01d488b592"
      },
      "source": [
        "plt.plot(history.history['loss'])\n",
        "plt.title('model loss')\n",
        "plt.ylabel('loss')\n",
        "plt.xlabel('epoch')\n",
        "plt.legend(['train'], loc='upper left')\n",
        "plt.show()"
      ],
      "execution_count": 435,
      "outputs": [
        {
          "output_type": "display_data",
          "data": {
            "image/png": "[encoded data removed]",
            "text/plain": [
              "<Figure size 432x288 with 1 Axes>"
            ]
          },
          "metadata": {
            "tags": [],
            "needs_background": "light"
          }
        }
      ]
    },
    {
      "cell_type": "markdown",
      "metadata": {
        "id": "dLzoyucBklnp"
      },
      "source": [
        "# Test"
      ]
    },
    {
      "cell_type": "code",
      "metadata": {
        "colab": {
          "base_uri": "https://localhost:8080/"
        },
        "id": "EvXvIImscy-_",
        "outputId": "b9bb5eb6-445f-475b-c89c-1a72342e195a"
      },
      "source": [
        "_, acc = cnn.evaluate(test_data, test_labels, verbose = False)\n",
        "\n",
        "print('Accuracy = %.2f' % (acc*100) + '%')"
      ],
      "execution_count": 436,
      "outputs": [
        {
          "output_type": "stream",
          "text": [
            "Accuracy = 90.27%\n"
          ],
          "name": "stdout"
        }
      ]
    }
  ]
}