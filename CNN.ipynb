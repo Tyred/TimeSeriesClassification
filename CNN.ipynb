{
  "nbformat": 4,
  "nbformat_minor": 0,
  "metadata": {
    "colab": {
      "name": "CNN.ipynb",
      "provenance": [],
      "collapsed_sections": [],
      "mount_file_id": "1O6DmDk-YCQVnTMtamJnCJYY08VgiyKfV",
      "authorship_tag": "ABX9TyNptulkgkKQg2SD+sUfPwsj",
      "include_colab_link": true
    },
    "kernelspec": {
      "name": "python3",
      "display_name": "Python 3"
    },
    "language_info": {
      "name": "python"
    },
    "accelerator": "GPU"
  },
  "cells": [
    {
      "cell_type": "markdown",
      "metadata": {
        "id": "view-in-github",
        "colab_type": "text"
      },
      "source": [
        "<a href=\"https://colab.research.google.com/github/Tyred/TimeSeriesClassification/blob/main/CNN.ipynb\" target=\"_parent\"><img src=\"https://colab.research.google.com/assets/colab-badge.svg\" alt=\"Open In Colab\"/></a>"
      ]
    },
    {
      "cell_type": "markdown",
      "metadata": {
        "id": "315fs7wKPku4"
      },
      "source": [
        "# Imports"
      ]
    },
    {
      "cell_type": "code",
      "metadata": {
        "id": "7vtGj6fx3xtu",
        "colab": {
          "base_uri": "https://localhost:8080/"
        },
        "outputId": "cc73ffbe-40d3-4514-8605-ea2f682a551d"
      },
      "source": [
        "!pip install -q -U tensorflow-addons\n",
        "!pip install tsaug"
      ],
      "execution_count": 526,
      "outputs": [
        {
          "output_type": "stream",
          "text": [
            "Requirement already satisfied: tsaug in /usr/local/lib/python3.7/dist-packages (0.2.1)\n",
            "Requirement already satisfied: numpy>=1.14 in /usr/local/lib/python3.7/dist-packages (from tsaug) (1.19.5)\n",
            "Requirement already satisfied: scipy>=1.1 in /usr/local/lib/python3.7/dist-packages (from tsaug) (1.4.1)\n"
          ],
          "name": "stdout"
        }
      ]
    },
    {
      "cell_type": "code",
      "metadata": {
        "id": "G27xedc-Pd11"
      },
      "source": [
        "import numpy as np\n",
        "import matplotlib.pyplot as plt\n",
        "import tensorflow as tf\n",
        "import tensorflow_addons as tfa\n",
        "\n",
        "from tensorflow import keras\n",
        "\n",
        "from tensorflow.keras.layers import Conv1D, Activation, Dense, Flatten, \\\n",
        "                                    MaxPooling1D, GlobalAveragePooling1D, Dropout, \\\n",
        "                                    BatchNormalization\n",
        "\n",
        "from tsaug import TimeWarp, Crop, Quantize, Drift, Reverse\n",
        "from sklearn.model_selection import train_test_split\n",
        "\n",
        "%matplotlib inline"
      ],
      "execution_count": 527,
      "outputs": []
    },
    {
      "cell_type": "markdown",
      "metadata": {
        "id": "A1lhAtJ8kXzg"
      },
      "source": [
        "# Reading Dataset from UCR Archive"
      ]
    },
    {
      "cell_type": "code",
      "metadata": {
        "colab": {
          "base_uri": "https://localhost:8080/"
        },
        "id": "2YgAD0HHVpGM",
        "outputId": "4787eac5-8e81-4290-f738-3055a539e5aa"
      },
      "source": [
        "path = 'drive/My Drive/UFSCar/FAPESP/IC/Data/UCRArchive_2018'\n",
        "\n",
        "dataset = input('Dataset: ')\n",
        "tr_data = np.genfromtxt(path + \"/\" + dataset + \"/\" + dataset + \"_TRAIN.tsv\", \n",
        "                        delimiter=\"\\t\",)\n",
        "te_data = np.genfromtxt(path + \"/\" + dataset + \"/\" + dataset + \"_TEST.tsv\", \n",
        "                        delimiter=\"\\t\",)\n",
        "\n",
        "train_labels = np.array([int(label) for label in tr_data[: ,0]]) \n",
        "test_labels  = np.array([int(label) for label in te_data[:, 0]])\n",
        "print(\"Labels:\", np.unique(train_labels))"
      ],
      "execution_count": 528,
      "outputs": [
        {
          "output_type": "stream",
          "text": [
            "Dataset: HandOutlines\n",
            "Labels: [0 1]\n"
          ],
          "name": "stdout"
        }
      ]
    },
    {
      "cell_type": "markdown",
      "metadata": {
        "id": "VGKA6VlYkhce"
      },
      "source": [
        "# Preprocessing"
      ]
    },
    {
      "cell_type": "markdown",
      "metadata": {
        "id": "FEHvE3LjVEgh"
      },
      "source": [
        "## Train-Validation-Test Split"
      ]
    },
    {
      "cell_type": "code",
      "metadata": {
        "id": "Uplualw9VwpR"
      },
      "source": [
        "num_classes = len(np.unique(train_labels))\n",
        "\n",
        "train_data  = tr_data[:, 1:] \n",
        "test_data   = te_data[:, 1:]\n",
        "\n",
        "serie_length = train_data.shape[1]"
      ],
      "execution_count": 529,
      "outputs": []
    },
    {
      "cell_type": "code",
      "metadata": {
        "colab": {
          "base_uri": "https://localhost:8080/"
        },
        "id": "sPTW7pCbVNiS",
        "outputId": "e03d3d99-1c44-4e0c-8b04-c24b1ddafd3e"
      },
      "source": [
        "train_data, val_data, train_labels, val_labels = train_test_split(train_data, train_labels, test_size=0.25, random_state=42)\n",
        "\n",
        "print(\"Train data shape:\", train_data.shape)\n",
        "print(\"Validation data shape:\", val_data.shape)\n",
        "print(\"Test data shape:\", test_data.shape)\n",
        "\n",
        "print(val_labels.shape)"
      ],
      "execution_count": 530,
      "outputs": [
        {
          "output_type": "stream",
          "text": [
            "Train data shape: (750, 2709)\n",
            "Validation data shape: (250, 2709)\n",
            "Test data shape: (370, 2709)\n",
            "(250,)\n"
          ],
          "name": "stdout"
        }
      ]
    },
    {
      "cell_type": "markdown",
      "metadata": {
        "id": "n7t2Ej3b6DYN"
      },
      "source": [
        "## Data Augmentation"
      ]
    },
    {
      "cell_type": "code",
      "metadata": {
        "colab": {
          "base_uri": "https://localhost:8080/",
          "height": 0
        },
        "id": "I4NSom2m6c6S",
        "outputId": "b82884ef-a855-4d78-ddfc-44c0ffaca187"
      },
      "source": [
        "'''from tsaug.visualization import plot\n",
        "#print(train_data.shape)\n",
        "#plots, _ = plot(train_data)\n",
        "my_augmenter = (\n",
        "     TimeWarp() # random time warping 5 times in parallel\n",
        "     + Crop(size=serie_length)  # random crop subsequences with length 300\n",
        "     + Quantize(n_levels=[10, 20, 30])  # random quantize to 10-, 20-, or 30- level sets\n",
        "     + Drift(max_drift=(0.1, 0.5)) @ 0.8  # with 80% probability, random drift the signal up to 10% - 50%\n",
        "     + Reverse() @ 0.5  # with 50% probability, reverse the sequence\n",
        "     )\n",
        "#plots '''"
      ],
      "execution_count": 531,
      "outputs": [
        {
          "output_type": "execute_result",
          "data": {
            "application/vnd.google.colaboratory.intrinsic+json": {
              "type": "string"
            },
            "text/plain": [
              "'from tsaug.visualization import plot\\n#print(train_data.shape)\\n#plots, _ = plot(train_data)\\nmy_augmenter = (\\n     TimeWarp() # random time warping 5 times in parallel\\n     + Crop(size=serie_length)  # random crop subsequences with length 300\\n     + Quantize(n_levels=[10, 20, 30])  # random quantize to 10-, 20-, or 30- level sets\\n     + Drift(max_drift=(0.1, 0.5)) @ 0.8  # with 80% probability, random drift the signal up to 10% - 50%\\n     + Reverse() @ 0.5  # with 50% probability, reverse the sequence\\n     )\\n#plots '"
            ]
          },
          "metadata": {
            "tags": []
          },
          "execution_count": 531
        }
      ]
    },
    {
      "cell_type": "code",
      "metadata": {
        "colab": {
          "base_uri": "https://localhost:8080/",
          "height": 0
        },
        "id": "uzts1gtr72g4",
        "outputId": "0679de32-81a0-4b09-8e96-61dababc9d2f"
      },
      "source": [
        "'''train_augmented  = [serie for serie in train_data]\n",
        "labels_augmented = [label for label in train_labels]\n",
        "\n",
        "for serie, label in zip(train_data, train_labels):\n",
        "    #for augmented in my_augmenter.augment(serie):\n",
        "    train_augmented.append(my_augmenter.augment(serie)) \n",
        "    labels_augmented.append(label)\n",
        "'''"
      ],
      "execution_count": 532,
      "outputs": [
        {
          "output_type": "execute_result",
          "data": {
            "application/vnd.google.colaboratory.intrinsic+json": {
              "type": "string"
            },
            "text/plain": [
              "'train_augmented  = [serie for serie in train_data]\\nlabels_augmented = [label for label in train_labels]\\n\\nfor serie, label in zip(train_data, train_labels):\\n    #for augmented in my_augmenter.augment(serie):\\n    train_augmented.append(my_augmenter.augment(serie)) \\n    labels_augmented.append(label)\\n'"
            ]
          },
          "metadata": {
            "tags": []
          },
          "execution_count": 532
        }
      ]
    },
    {
      "cell_type": "code",
      "metadata": {
        "colab": {
          "base_uri": "https://localhost:8080/",
          "height": 0
        },
        "id": "-vvBj5UQ_LAA",
        "outputId": "fe92a783-569e-4dc0-ffc1-e22f0aa62609"
      },
      "source": [
        "'''train_data   = np.array(train_augmented)\n",
        "train_labels = np.array(labels_augmented)\n",
        "'''"
      ],
      "execution_count": 533,
      "outputs": [
        {
          "output_type": "execute_result",
          "data": {
            "application/vnd.google.colaboratory.intrinsic+json": {
              "type": "string"
            },
            "text/plain": [
              "'train_data   = np.array(train_augmented)\\ntrain_labels = np.array(labels_augmented)\\n'"
            ]
          },
          "metadata": {
            "tags": []
          },
          "execution_count": 533
        }
      ]
    },
    {
      "cell_type": "markdown",
      "metadata": {
        "id": "xN321UgU65OF"
      },
      "source": [
        "## Shuffle and Casting"
      ]
    },
    {
      "cell_type": "code",
      "metadata": {
        "id": "-ZMtoT-66pyr"
      },
      "source": [
        "# Shuffle train\n",
        "shuffle_idx   = np.random.RandomState(seed=42).permutation((len(train_data)))\n",
        "train_data    = np.array(train_data)[shuffle_idx]\n",
        "train_labels  = np.array(train_labels)[shuffle_idx]\n",
        "\n",
        "train_data = tf.cast(train_data, tf.float32)\n",
        "val_data   = tf.cast(val_data , tf.float32)\n",
        "test_data  = tf.cast(test_data , tf.float32)\n",
        "\n",
        "train_data = tf.expand_dims(train_data, axis=-1)\n",
        "val_data   = tf.expand_dims(val_data,   axis=-1)\n",
        "test_data  = tf.expand_dims(test_data , axis=-1)"
      ],
      "execution_count": 534,
      "outputs": []
    },
    {
      "cell_type": "markdown",
      "metadata": {
        "id": "ZEzoNBH_kR9i"
      },
      "source": [
        "# CNN Model"
      ]
    },
    {
      "cell_type": "code",
      "metadata": {
        "id": "5cn6tBDyPwGh"
      },
      "source": [
        "# Convolutional Autoencoder with MaxPooling:\n",
        "class CNN(tf.keras.Model):\n",
        "    def __init__(self, num_classes): #, serie_length):\n",
        "        super(CNN, self).__init__()\n",
        "        self.conv_1  = Conv1D(  filters=32, #32\n",
        "                                kernel_size=3,\n",
        "                                padding='same', \n",
        "                                kernel_initializer=\"he_uniform\", \n",
        "                                kernel_regularizer=keras.regularizers.l1(1e-4)\n",
        "                             )\n",
        "\n",
        "        self.gn_1    = tfa.layers.GroupNormalization(32)\n",
        "        #self.bn_1    = BatchNormalization()\n",
        "        self.act_1   = Activation('swish')\n",
        "        self.max_1   = MaxPooling1D(2)\n",
        "        \n",
        "        self.conv_2  = Conv1D(  filters=32, #32 \n",
        "                                kernel_size=3,\n",
        "                                padding='same',\n",
        "                                kernel_initializer=\"he_uniform\", \n",
        "                                kernel_regularizer=keras.regularizers.l1(1e-4)\n",
        "                             )\n",
        "\n",
        "        self.gn_2    = tfa.layers.GroupNormalization(32)\n",
        "        #self.bn_2    = BatchNormalization()\n",
        "        self.act_2   = Activation('swish')\n",
        "        self.max_2   = MaxPooling1D(2)\n",
        "        \n",
        "        self.conv_3  = Conv1D(  filters=64, #64\n",
        "                                kernel_size=3,\n",
        "                                padding='same',\n",
        "                                kernel_initializer=\"he_uniform\", \n",
        "                                kernel_regularizer=keras.regularizers.l1(1e-4)\n",
        "                             )\n",
        "                            \n",
        "        self.gn_3    = tfa.layers.GroupNormalization(32)\n",
        "        #self.bn_3    = BatchNormalization()\n",
        "        self.act_3   = Activation('swish')\n",
        "        self.max_3   = MaxPooling1D(2)\n",
        "\n",
        "        self.conv_4  = Conv1D(  filters=64, #128 \n",
        "                                kernel_size=3,\n",
        "                                padding='same',\n",
        "                                kernel_initializer=\"he_uniform\", \n",
        "                                kernel_regularizer=keras.regularizers.l1(1e-4)\n",
        "                             )\n",
        "                            \n",
        "        self.gn_4    = tfa.layers.GroupNormalization(32)\n",
        "        #self.bn_4    = BatchNormalization()\n",
        "        self.act_4   = Activation('swish')\n",
        "        self.max_4   = MaxPooling1D(2)\n",
        "\n",
        "        self.flatten = Flatten()\n",
        "        \n",
        "        self.dense_1 = Dense(128, activation='swish',\n",
        "                            kernel_initializer=\"he_uniform\", \n",
        "                            kernel_regularizer=keras.regularizers.l1(1e-4)\n",
        "                            )\n",
        "                            \n",
        "        self.drop_5  = dropout = Dropout(0.5)\n",
        "\n",
        "        self.clf     = Dense(num_classes, activation='softmax')\n",
        "\n",
        "    def call(self, inputs):\n",
        "        x = self.conv_1(inputs)\n",
        "        x = self.gn_1(x)\n",
        "        #x = self.bn_1(x)\n",
        "        x = self.act_1(x)\n",
        "        x = self.max_1(x)\n",
        "\n",
        "        x = self.conv_2(x)\n",
        "        x = self.gn_2(x)\n",
        "        #x = self.bn_2(x)\n",
        "        x = self.act_2(x)\n",
        "        x = self.max_2(x)\n",
        "\n",
        "        x = self.conv_3(x)\n",
        "        x = self.gn_3(x)\n",
        "        #x = self.bn_3(x)\n",
        "        x = self.act_3(x)\n",
        "        x = self.max_3(x)\n",
        "\n",
        "        x = self.conv_4(x)\n",
        "        x = self.gn_4(x)\n",
        "        #x = self.bn_4(x)\n",
        "        x = self.act_4(x)\n",
        "        x = self.max_4(x)\n",
        "        \n",
        "        x = self.flatten(x)\n",
        "        \n",
        "        x = self.dense_1(x)\n",
        "        x = self.drop_5(x)\n",
        "        \n",
        "        return self.clf(x)\n",
        "\n",
        "    def model(self):\n",
        "        x = keras.layers.Input(shape=(serie_length, 1))\n",
        "        return tf.keras.Model(inputs=[x], outputs=self.call(x))"
      ],
      "execution_count": 542,
      "outputs": []
    },
    {
      "cell_type": "code",
      "metadata": {
        "id": "NjYxvzzTqK2A"
      },
      "source": [
        "cnn = CNN(num_classes)"
      ],
      "execution_count": 543,
      "outputs": []
    },
    {
      "cell_type": "code",
      "metadata": {
        "colab": {
          "base_uri": "https://localhost:8080/"
        },
        "id": "wH-TZxyH2Wps",
        "outputId": "43f4bfed-bc55-4496-f2d6-b1ae1bf53b78"
      },
      "source": [
        "cnn.model().summary()"
      ],
      "execution_count": 544,
      "outputs": [
        {
          "output_type": "stream",
          "text": [
            "Model: \"model_45\"\n",
            "_________________________________________________________________\n",
            "Layer (type)                 Output Shape              Param #   \n",
            "=================================================================\n",
            "input_47 (InputLayer)        [(None, 2709, 1)]         0         \n",
            "_________________________________________________________________\n",
            "conv1d_184 (Conv1D)          (None, 2709, 32)          128       \n",
            "_________________________________________________________________\n",
            "group_normalization_148 (Gro (None, 2709, 32)          64        \n",
            "_________________________________________________________________\n",
            "activation_184 (Activation)  (None, 2709, 32)          0         \n",
            "_________________________________________________________________\n",
            "max_pooling1d_184 (MaxPoolin (None, 1354, 32)          0         \n",
            "_________________________________________________________________\n",
            "conv1d_185 (Conv1D)          (None, 1354, 32)          3104      \n",
            "_________________________________________________________________\n",
            "group_normalization_149 (Gro (None, 1354, 32)          64        \n",
            "_________________________________________________________________\n",
            "activation_185 (Activation)  (None, 1354, 32)          0         \n",
            "_________________________________________________________________\n",
            "max_pooling1d_185 (MaxPoolin (None, 677, 32)           0         \n",
            "_________________________________________________________________\n",
            "conv1d_186 (Conv1D)          (None, 677, 64)           6208      \n",
            "_________________________________________________________________\n",
            "group_normalization_150 (Gro (None, 677, 64)           128       \n",
            "_________________________________________________________________\n",
            "activation_186 (Activation)  (None, 677, 64)           0         \n",
            "_________________________________________________________________\n",
            "max_pooling1d_186 (MaxPoolin (None, 338, 64)           0         \n",
            "_________________________________________________________________\n",
            "conv1d_187 (Conv1D)          (None, 338, 64)           12352     \n",
            "_________________________________________________________________\n",
            "group_normalization_151 (Gro (None, 338, 64)           128       \n",
            "_________________________________________________________________\n",
            "activation_187 (Activation)  (None, 338, 64)           0         \n",
            "_________________________________________________________________\n",
            "max_pooling1d_187 (MaxPoolin (None, 169, 64)           0         \n",
            "_________________________________________________________________\n",
            "flatten_46 (Flatten)         (None, 10816)             0         \n",
            "_________________________________________________________________\n",
            "dense_92 (Dense)             (None, 128)               1384576   \n",
            "_________________________________________________________________\n",
            "dropout_86 (Dropout)         (None, 128)               0         \n",
            "_________________________________________________________________\n",
            "dense_93 (Dense)             (None, 2)                 258       \n",
            "=================================================================\n",
            "Total params: 1,407,010\n",
            "Trainable params: 1,407,010\n",
            "Non-trainable params: 0\n",
            "_________________________________________________________________\n"
          ],
          "name": "stdout"
        }
      ]
    },
    {
      "cell_type": "markdown",
      "metadata": {
        "id": "PvRRoDZmkjsf"
      },
      "source": [
        "# Train"
      ]
    },
    {
      "cell_type": "code",
      "metadata": {
        "id": "4uIZgOJFWXHu",
        "colab": {
          "base_uri": "https://localhost:8080/"
        },
        "outputId": "09a28f11-f4a1-411a-d18e-447bf92f03c8"
      },
      "source": [
        "initial_learning_rate = 1e-3\n",
        "lr_schedule = tf.keras.optimizers.schedules.ExponentialDecay(\n",
        "    initial_learning_rate,\n",
        "    decay_steps = 65,\n",
        "    decay_rate = 0.9,\n",
        "    staircase = False\n",
        ")\n",
        "\n",
        "my_callbacks = [\n",
        "        keras.callbacks.EarlyStopping(monitor='val_loss', patience=5),\n",
        "        keras.callbacks.ModelCheckpoint(save_best_only=True,\n",
        "                                        filepath='best_model.h5',\n",
        "                                        save_weights_only=True,\n",
        "                                        monitor='val_loss'\n",
        "                                        )\n",
        "]\n",
        "\n",
        "cnn.compile(optimizer=keras.optimizers.Adam(learning_rate=lr_schedule),\n",
        "            loss='sparse_categorical_crossentropy',\n",
        "            metrics=['accuracy'])\n",
        "\n",
        "batch_size = 32\n",
        "epochs = 100\n",
        "\n",
        "history = cnn.fit(train_data, train_labels, \n",
        "          epochs=epochs,\n",
        "          batch_size=batch_size,\n",
        "          validation_data=(val_data, val_labels),\n",
        "          callbacks=my_callbacks)\n",
        "cnn.load_weights('best_model.h5')"
      ],
      "execution_count": 545,
      "outputs": [
        {
          "output_type": "stream",
          "text": [
            "Epoch 1/100\n",
            "24/24 [==============================] - 9s 318ms/step - loss: 24.4065 - accuracy: 0.7467 - val_loss: 22.2220 - val_accuracy: 0.7960\n",
            "Epoch 2/100\n",
            "24/24 [==============================] - 7s 305ms/step - loss: 20.6081 - accuracy: 0.8453 - val_loss: 18.9591 - val_accuracy: 0.8160\n",
            "Epoch 3/100\n",
            "24/24 [==============================] - 7s 307ms/step - loss: 17.4562 - accuracy: 0.8640 - val_loss: 15.9885 - val_accuracy: 0.8040\n",
            "Epoch 4/100\n",
            "24/24 [==============================] - 7s 306ms/step - loss: 14.6783 - accuracy: 0.8627 - val_loss: 13.4099 - val_accuracy: 0.8040\n",
            "Epoch 5/100\n",
            "24/24 [==============================] - 7s 308ms/step - loss: 12.2576 - accuracy: 0.8747 - val_loss: 11.1982 - val_accuracy: 0.8360\n",
            "Epoch 6/100\n",
            "24/24 [==============================] - 7s 308ms/step - loss: 10.2105 - accuracy: 0.8587 - val_loss: 9.3497 - val_accuracy: 0.8080\n",
            "Epoch 7/100\n",
            "24/24 [==============================] - 7s 310ms/step - loss: 8.4818 - accuracy: 0.8667 - val_loss: 7.7325 - val_accuracy: 0.8400\n",
            "Epoch 8/100\n",
            "24/24 [==============================] - 7s 308ms/step - loss: 7.0417 - accuracy: 0.8733 - val_loss: 6.5641 - val_accuracy: 0.8080\n",
            "Epoch 9/100\n",
            "24/24 [==============================] - 7s 313ms/step - loss: 5.9021 - accuracy: 0.8747 - val_loss: 5.4340 - val_accuracy: 0.8480\n",
            "Epoch 10/100\n",
            "24/24 [==============================] - 7s 311ms/step - loss: 4.9942 - accuracy: 0.8840 - val_loss: 4.6977 - val_accuracy: 0.8360\n",
            "Epoch 11/100\n",
            "24/24 [==============================] - 7s 310ms/step - loss: 4.2759 - accuracy: 0.8747 - val_loss: 4.1810 - val_accuracy: 0.7840\n",
            "Epoch 12/100\n",
            "24/24 [==============================] - 7s 309ms/step - loss: 3.7415 - accuracy: 0.8840 - val_loss: 3.5375 - val_accuracy: 0.8480\n",
            "Epoch 13/100\n",
            "24/24 [==============================] - 7s 313ms/step - loss: 3.2726 - accuracy: 0.8720 - val_loss: 3.1809 - val_accuracy: 0.8280\n",
            "Epoch 14/100\n",
            "24/24 [==============================] - 7s 312ms/step - loss: 2.8746 - accuracy: 0.8853 - val_loss: 2.7917 - val_accuracy: 0.8360\n",
            "Epoch 15/100\n",
            "24/24 [==============================] - 7s 312ms/step - loss: 2.5831 - accuracy: 0.8773 - val_loss: 2.5138 - val_accuracy: 0.8440\n",
            "Epoch 16/100\n",
            "24/24 [==============================] - 7s 310ms/step - loss: 2.3395 - accuracy: 0.8787 - val_loss: 2.2841 - val_accuracy: 0.8520\n",
            "Epoch 17/100\n",
            "24/24 [==============================] - 7s 312ms/step - loss: 2.1624 - accuracy: 0.8840 - val_loss: 2.1764 - val_accuracy: 0.8280\n",
            "Epoch 18/100\n",
            "24/24 [==============================] - 7s 310ms/step - loss: 1.9925 - accuracy: 0.8907 - val_loss: 2.0006 - val_accuracy: 0.8560\n",
            "Epoch 19/100\n",
            "24/24 [==============================] - 7s 311ms/step - loss: 1.8367 - accuracy: 0.8933 - val_loss: 1.8837 - val_accuracy: 0.8560\n",
            "Epoch 20/100\n",
            "24/24 [==============================] - 7s 309ms/step - loss: 1.7196 - accuracy: 0.9000 - val_loss: 1.7492 - val_accuracy: 0.8520\n",
            "Epoch 21/100\n",
            "24/24 [==============================] - 7s 309ms/step - loss: 1.6629 - accuracy: 0.8800 - val_loss: 1.6882 - val_accuracy: 0.8640\n",
            "Epoch 22/100\n",
            "24/24 [==============================] - 7s 311ms/step - loss: 1.5663 - accuracy: 0.8987 - val_loss: 1.5683 - val_accuracy: 0.8720\n",
            "Epoch 23/100\n",
            "24/24 [==============================] - 7s 313ms/step - loss: 1.4746 - accuracy: 0.8987 - val_loss: 1.5873 - val_accuracy: 0.8320\n",
            "Epoch 24/100\n",
            "24/24 [==============================] - 7s 312ms/step - loss: 1.4496 - accuracy: 0.8920 - val_loss: 1.5057 - val_accuracy: 0.8680\n",
            "Epoch 25/100\n",
            "24/24 [==============================] - 7s 311ms/step - loss: 1.3667 - accuracy: 0.9013 - val_loss: 1.4075 - val_accuracy: 0.8720\n",
            "Epoch 26/100\n",
            "24/24 [==============================] - 7s 312ms/step - loss: 1.3130 - accuracy: 0.9000 - val_loss: 1.3566 - val_accuracy: 0.8720\n",
            "Epoch 27/100\n",
            "24/24 [==============================] - 7s 311ms/step - loss: 1.2570 - accuracy: 0.9133 - val_loss: 1.3824 - val_accuracy: 0.8440\n",
            "Epoch 28/100\n",
            "24/24 [==============================] - 7s 311ms/step - loss: 1.2373 - accuracy: 0.9147 - val_loss: 1.3167 - val_accuracy: 0.8640\n",
            "Epoch 29/100\n",
            "24/24 [==============================] - 7s 313ms/step - loss: 1.1914 - accuracy: 0.9053 - val_loss: 1.2947 - val_accuracy: 0.8640\n",
            "Epoch 30/100\n",
            "24/24 [==============================] - 7s 312ms/step - loss: 1.1583 - accuracy: 0.9173 - val_loss: 1.2219 - val_accuracy: 0.8800\n",
            "Epoch 31/100\n",
            "24/24 [==============================] - 8s 314ms/step - loss: 1.1373 - accuracy: 0.9160 - val_loss: 1.2295 - val_accuracy: 0.8800\n",
            "Epoch 32/100\n",
            "24/24 [==============================] - 7s 312ms/step - loss: 1.1061 - accuracy: 0.9173 - val_loss: 1.1727 - val_accuracy: 0.8760\n",
            "Epoch 33/100\n",
            "24/24 [==============================] - 7s 311ms/step - loss: 1.0818 - accuracy: 0.9187 - val_loss: 1.1581 - val_accuracy: 0.8840\n",
            "Epoch 34/100\n",
            "24/24 [==============================] - 7s 311ms/step - loss: 1.0747 - accuracy: 0.9133 - val_loss: 1.1232 - val_accuracy: 0.8800\n",
            "Epoch 35/100\n",
            "24/24 [==============================] - 8s 315ms/step - loss: 1.0544 - accuracy: 0.9160 - val_loss: 1.1308 - val_accuracy: 0.8800\n",
            "Epoch 36/100\n",
            "24/24 [==============================] - 7s 312ms/step - loss: 1.0336 - accuracy: 0.9147 - val_loss: 1.1062 - val_accuracy: 0.8760\n",
            "Epoch 37/100\n",
            "24/24 [==============================] - 7s 313ms/step - loss: 1.0205 - accuracy: 0.9173 - val_loss: 1.1040 - val_accuracy: 0.8760\n",
            "Epoch 38/100\n",
            "24/24 [==============================] - 7s 311ms/step - loss: 0.9948 - accuracy: 0.9107 - val_loss: 1.0681 - val_accuracy: 0.8800\n",
            "Epoch 39/100\n",
            "24/24 [==============================] - 7s 312ms/step - loss: 0.9665 - accuracy: 0.9187 - val_loss: 1.0542 - val_accuracy: 0.8840\n",
            "Epoch 40/100\n",
            "24/24 [==============================] - 7s 312ms/step - loss: 0.9707 - accuracy: 0.9173 - val_loss: 1.0742 - val_accuracy: 0.8680\n",
            "Epoch 41/100\n",
            "24/24 [==============================] - 7s 312ms/step - loss: 0.9473 - accuracy: 0.9267 - val_loss: 1.0448 - val_accuracy: 0.8840\n",
            "Epoch 42/100\n",
            "24/24 [==============================] - 7s 310ms/step - loss: 0.9394 - accuracy: 0.9227 - val_loss: 1.0092 - val_accuracy: 0.8880\n",
            "Epoch 43/100\n",
            "24/24 [==============================] - 7s 310ms/step - loss: 0.9209 - accuracy: 0.9213 - val_loss: 1.0172 - val_accuracy: 0.8880\n",
            "Epoch 44/100\n",
            "24/24 [==============================] - 7s 312ms/step - loss: 0.9055 - accuracy: 0.9173 - val_loss: 0.9888 - val_accuracy: 0.8960\n",
            "Epoch 45/100\n",
            "24/24 [==============================] - 7s 313ms/step - loss: 0.9104 - accuracy: 0.9173 - val_loss: 1.0092 - val_accuracy: 0.8760\n",
            "Epoch 46/100\n",
            "24/24 [==============================] - 7s 312ms/step - loss: 0.8936 - accuracy: 0.9253 - val_loss: 0.9806 - val_accuracy: 0.8880\n",
            "Epoch 47/100\n",
            "24/24 [==============================] - 7s 311ms/step - loss: 0.8885 - accuracy: 0.9080 - val_loss: 0.9853 - val_accuracy: 0.8800\n",
            "Epoch 48/100\n",
            "24/24 [==============================] - 8s 314ms/step - loss: 0.8643 - accuracy: 0.9293 - val_loss: 0.9543 - val_accuracy: 0.8800\n",
            "Epoch 49/100\n",
            "24/24 [==============================] - 7s 312ms/step - loss: 0.8726 - accuracy: 0.9213 - val_loss: 0.9593 - val_accuracy: 0.8800\n",
            "Epoch 50/100\n",
            "24/24 [==============================] - 7s 312ms/step - loss: 0.8522 - accuracy: 0.9293 - val_loss: 0.9549 - val_accuracy: 0.8800\n",
            "Epoch 51/100\n",
            "24/24 [==============================] - 7s 314ms/step - loss: 0.8450 - accuracy: 0.9320 - val_loss: 0.9454 - val_accuracy: 0.8840\n",
            "Epoch 52/100\n",
            "24/24 [==============================] - 7s 312ms/step - loss: 0.8363 - accuracy: 0.9267 - val_loss: 0.9402 - val_accuracy: 0.8800\n",
            "Epoch 53/100\n",
            "24/24 [==============================] - 7s 311ms/step - loss: 0.8367 - accuracy: 0.9240 - val_loss: 0.9659 - val_accuracy: 0.8840\n",
            "Epoch 54/100\n",
            "24/24 [==============================] - 7s 312ms/step - loss: 0.8398 - accuracy: 0.9333 - val_loss: 0.9391 - val_accuracy: 0.8840\n",
            "Epoch 55/100\n",
            "24/24 [==============================] - 7s 312ms/step - loss: 0.8244 - accuracy: 0.9213 - val_loss: 0.9264 - val_accuracy: 0.8840\n",
            "Epoch 56/100\n",
            "24/24 [==============================] - 7s 311ms/step - loss: 0.8258 - accuracy: 0.9200 - val_loss: 0.9205 - val_accuracy: 0.8800\n",
            "Epoch 57/100\n",
            "24/24 [==============================] - 7s 311ms/step - loss: 0.8154 - accuracy: 0.9227 - val_loss: 0.9203 - val_accuracy: 0.8880\n",
            "Epoch 58/100\n",
            "24/24 [==============================] - 7s 312ms/step - loss: 0.7966 - accuracy: 0.9333 - val_loss: 0.9153 - val_accuracy: 0.8800\n",
            "Epoch 59/100\n",
            "24/24 [==============================] - 7s 313ms/step - loss: 0.8026 - accuracy: 0.9280 - val_loss: 0.8920 - val_accuracy: 0.8800\n",
            "Epoch 60/100\n",
            "24/24 [==============================] - 7s 310ms/step - loss: 0.7920 - accuracy: 0.9240 - val_loss: 0.8962 - val_accuracy: 0.8880\n",
            "Epoch 61/100\n",
            "24/24 [==============================] - 7s 313ms/step - loss: 0.8032 - accuracy: 0.9253 - val_loss: 0.8887 - val_accuracy: 0.8800\n",
            "Epoch 62/100\n",
            "24/24 [==============================] - 7s 312ms/step - loss: 0.7829 - accuracy: 0.9360 - val_loss: 0.8790 - val_accuracy: 0.8800\n",
            "Epoch 63/100\n",
            "24/24 [==============================] - 7s 313ms/step - loss: 0.7701 - accuracy: 0.9347 - val_loss: 0.8805 - val_accuracy: 0.8800\n",
            "Epoch 64/100\n",
            "24/24 [==============================] - 7s 313ms/step - loss: 0.7794 - accuracy: 0.9253 - val_loss: 0.8848 - val_accuracy: 0.8960\n",
            "Epoch 65/100\n",
            "24/24 [==============================] - 8s 317ms/step - loss: 0.7740 - accuracy: 0.9360 - val_loss: 0.8878 - val_accuracy: 0.8880\n",
            "Epoch 66/100\n",
            "24/24 [==============================] - 8s 315ms/step - loss: 0.7705 - accuracy: 0.9320 - val_loss: 0.8801 - val_accuracy: 0.8880\n",
            "Epoch 67/100\n",
            "24/24 [==============================] - 7s 313ms/step - loss: 0.7680 - accuracy: 0.9373 - val_loss: 0.8891 - val_accuracy: 0.8880\n"
          ],
          "name": "stdout"
        }
      ]
    },
    {
      "cell_type": "code",
      "metadata": {
        "colab": {
          "base_uri": "https://localhost:8080/",
          "height": 295
        },
        "id": "ZPeYoaKlq5Ky",
        "outputId": "894abe11-761d-461e-fb53-c1866a46cf6d"
      },
      "source": [
        "plt.plot(history.history['accuracy'])\n",
        "plt.plot(history.history['val_accuracy'])\n",
        "plt.title('model accuracy')\n",
        "plt.ylabel('accuracy')\n",
        "plt.xlabel('epoch')\n",
        "plt.legend(['train', 'test'], loc='upper left')\n",
        "plt.show()"
      ],
      "execution_count": 546,
      "outputs": [
        {
          "output_type": "display_data",
          "data": {
            "image/png": "[encoded data removed]",
            "text/plain": [
              "<Figure size 432x288 with 1 Axes>"
            ]
          },
          "metadata": {
            "tags": [],
            "needs_background": "light"
          }
        }
      ]
    },
    {
      "cell_type": "code",
      "metadata": {
        "colab": {
          "base_uri": "https://localhost:8080/",
          "height": 295
        },
        "id": "ZprllFEO3SO2",
        "outputId": "49df9685-488d-498c-a6fb-07858ed457a8"
      },
      "source": [
        "plt.plot(history.history['loss'])\n",
        "plt.plot(history.history['val_loss'])\n",
        "plt.title('model loss')\n",
        "plt.ylabel('loss')\n",
        "plt.xlabel('epoch')\n",
        "plt.legend(['train', 'test'], loc='upper left')\n",
        "plt.show()"
      ],
      "execution_count": 547,
      "outputs": [
        {
          "output_type": "display_data",
          "data": {
            "image/png": "[encoded data removed]",
            "text/plain": [
              "<Figure size 432x288 with 1 Axes>"
            ]
          },
          "metadata": {
            "tags": [],
            "needs_background": "light"
          }
        }
      ]
    },
    {
      "cell_type": "markdown",
      "metadata": {
        "id": "dLzoyucBklnp"
      },
      "source": [
        "# Test"
      ]
    },
    {
      "cell_type": "code",
      "metadata": {
        "colab": {
          "base_uri": "https://localhost:8080/"
        },
        "id": "EvXvIImscy-_",
        "outputId": "3f5242bf-95e6-4457-9026-f860af784f1f"
      },
      "source": [
        "_, acc = cnn.evaluate(test_data, test_labels, verbose = False)\n",
        "\n",
        "print('Accuracy = %.2f' % (acc*100) + '%')"
      ],
      "execution_count": 548,
      "outputs": [
        {
          "output_type": "stream",
          "text": [
            "Accuracy = 91.62%\n"
          ],
          "name": "stdout"
        }
      ]
    }
  ]
}