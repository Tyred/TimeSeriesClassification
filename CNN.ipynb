{
  "nbformat": 4,
  "nbformat_minor": 0,
  "metadata": {
    "colab": {
      "name": "CNN.ipynb",
      "provenance": [],
      "collapsed_sections": [],
      "mount_file_id": "1O6DmDk-YCQVnTMtamJnCJYY08VgiyKfV",
      "authorship_tag": "ABX9TyMc1lzfwka0Wr67mUJ1RuMk",
      "include_colab_link": true
    },
    "kernelspec": {
      "name": "python3",
      "display_name": "Python 3"
    },
    "language_info": {
      "name": "python"
    },
    "accelerator": "GPU"
  },
  "cells": [
    {
      "cell_type": "markdown",
      "metadata": {
        "id": "view-in-github",
        "colab_type": "text"
      },
      "source": [
        "<a href=\"https://colab.research.google.com/github/Tyred/TimeSeriesClassification/blob/main/CNN.ipynb\" target=\"_parent\"><img src=\"https://colab.research.google.com/assets/colab-badge.svg\" alt=\"Open In Colab\"/></a>"
      ]
    },
    {
      "cell_type": "markdown",
      "metadata": {
        "id": "315fs7wKPku4"
      },
      "source": [
        "# Imports"
      ]
    },
    {
      "cell_type": "code",
      "metadata": {
        "id": "7vtGj6fx3xtu",
        "colab": {
          "base_uri": "https://localhost:8080/"
        },
        "outputId": "9c58953e-685e-4fac-9a60-4b9b56a1c576"
      },
      "source": [
        "!pip install -q -U tensorflow-addons\n",
        "!pip install tsaug"
      ],
      "execution_count": 723,
      "outputs": [
        {
          "output_type": "stream",
          "text": [
            "Requirement already satisfied: tsaug in /usr/local/lib/python3.7/dist-packages (0.2.1)\n",
            "Requirement already satisfied: numpy>=1.14 in /usr/local/lib/python3.7/dist-packages (from tsaug) (1.19.5)\n",
            "Requirement already satisfied: scipy>=1.1 in /usr/local/lib/python3.7/dist-packages (from tsaug) (1.4.1)\n"
          ],
          "name": "stdout"
        }
      ]
    },
    {
      "cell_type": "code",
      "metadata": {
        "id": "G27xedc-Pd11"
      },
      "source": [
        "import numpy as np\n",
        "import matplotlib.pyplot as plt\n",
        "import tensorflow as tf\n",
        "import tensorflow_addons as tfa\n",
        "\n",
        "from tensorflow import keras\n",
        "\n",
        "from tensorflow.keras.layers import Conv1D, Activation, Dense, Flatten, \\\n",
        "                                    MaxPooling1D, GlobalAveragePooling1D, Dropout, \\\n",
        "                                    BatchNormalization\n",
        "\n",
        "from tsaug import TimeWarp, Crop, Quantize, Drift, Reverse\n",
        "from sklearn.model_selection import train_test_split\n",
        "\n",
        "%matplotlib inline"
      ],
      "execution_count": 724,
      "outputs": []
    },
    {
      "cell_type": "markdown",
      "metadata": {
        "id": "A1lhAtJ8kXzg"
      },
      "source": [
        "# Reading Dataset from UCR Archive"
      ]
    },
    {
      "cell_type": "code",
      "metadata": {
        "colab": {
          "base_uri": "https://localhost:8080/"
        },
        "id": "2YgAD0HHVpGM",
        "outputId": "6fb4beff-90fd-40a8-d227-91b1fcc906bd"
      },
      "source": [
        "path = 'drive/My Drive/UFSCar/FAPESP/IC/Data/UCRArchive_2018'\n",
        "\n",
        "dataset = input('Dataset: ')\n",
        "tr_data = np.genfromtxt(path + \"/\" + dataset + \"/\" + dataset + \"_TRAIN.tsv\", \n",
        "                        delimiter=\"\\t\",)\n",
        "te_data = np.genfromtxt(path + \"/\" + dataset + \"/\" + dataset + \"_TEST.tsv\", \n",
        "                        delimiter=\"\\t\",)\n",
        "\n",
        "train_labels = np.array([int(label) for label in tr_data[: ,0]]) \n",
        "test_labels  = np.array([int(label) for label in te_data[:, 0]])\n",
        "print(\"Labels:\", np.unique(train_labels))"
      ],
      "execution_count": 725,
      "outputs": [
        {
          "output_type": "stream",
          "text": [
            "Dataset: HandOutlines\n",
            "Labels: [0 1]\n"
          ],
          "name": "stdout"
        }
      ]
    },
    {
      "cell_type": "markdown",
      "metadata": {
        "id": "VGKA6VlYkhce"
      },
      "source": [
        "# Preprocessing"
      ]
    },
    {
      "cell_type": "markdown",
      "metadata": {
        "id": "icv9AtbuyuWF"
      },
      "source": [
        "## Fixing Labels"
      ]
    },
    {
      "cell_type": "code",
      "metadata": {
        "colab": {
          "base_uri": "https://localhost:8080/"
        },
        "id": "QWw5wuVWyv-m",
        "outputId": "ea726cd0-17dc-418c-e872-9aba16579c15"
      },
      "source": [
        "num_classes = len(np.unique(train_labels))\n",
        "if max(train_labels) >= num_classes or min(train_labels) < 0:\n",
        "\n",
        "    for i in range(len(train_labels)):\n",
        "        train_labels[i] = 0 if (train_labels[i] == -1 or train_labels[i] == 0) else train_labels[i]%num_classes\n",
        "\n",
        "    for i in range(len(test_labels)):\n",
        "        test_labels[i] = 0 if (test_labels[i] == -1 or test_labels[i] == 0) else test_labels[i]%num_classes \n",
        "    \n",
        "print(np.unique(train_labels))\n",
        "print(np.unique(test_labels))"
      ],
      "execution_count": 726,
      "outputs": [
        {
          "output_type": "stream",
          "text": [
            "[0 1]\n",
            "[0 1]\n"
          ],
          "name": "stdout"
        }
      ]
    },
    {
      "cell_type": "markdown",
      "metadata": {
        "id": "FEHvE3LjVEgh"
      },
      "source": [
        "## Train-Validation Split\n",
        "Not ideal..."
      ]
    },
    {
      "cell_type": "code",
      "metadata": {
        "id": "Uplualw9VwpR"
      },
      "source": [
        "#num_classes = len(np.unique(train_labels))\n",
        "\n",
        "train_data  = tr_data[:, 1:] \n",
        "test_data   = te_data[:, 1:]\n",
        "\n",
        "serie_length = train_data.shape[1]"
      ],
      "execution_count": 727,
      "outputs": []
    },
    {
      "cell_type": "code",
      "metadata": {
        "colab": {
          "base_uri": "https://localhost:8080/"
        },
        "id": "sPTW7pCbVNiS",
        "outputId": "c56e1b12-5080-463f-b594-a1f0bc7b11cc"
      },
      "source": [
        "train_data, val_data, train_labels, val_labels = train_test_split(train_data, train_labels, test_size=0.25, random_state=42)\n",
        "\n",
        "print(\"Train data shape:\", train_data.shape)\n",
        "print(\"Validation data shape:\", val_data.shape)\n",
        "print(\"Test data shape:\", test_data.shape)"
      ],
      "execution_count": 728,
      "outputs": [
        {
          "output_type": "stream",
          "text": [
            "Train data shape: (750, 2709)\n",
            "Validation data shape: (250, 2709)\n",
            "Test data shape: (370, 2709)\n"
          ],
          "name": "stdout"
        }
      ]
    },
    {
      "cell_type": "markdown",
      "metadata": {
        "id": "n7t2Ej3b6DYN"
      },
      "source": [
        "## Data Augmentation"
      ]
    },
    {
      "cell_type": "code",
      "metadata": {
        "colab": {
          "base_uri": "https://localhost:8080/",
          "height": 0
        },
        "id": "I4NSom2m6c6S",
        "outputId": "405610ed-ca17-4750-92f7-36ccef1d40e9"
      },
      "source": [
        "'''from tsaug.visualization import plot\n",
        "\n",
        "my_augmenter = (\n",
        "     TimeWarp() # random time warping 5 times in parallel\n",
        "     #+ Crop(size=serie_length)  # random crop subsequences with length 300\n",
        "     #+ Quantize(n_levels=[10, 20, 30])  # random quantize to 10-, 20-, or 30- level sets\n",
        "     #+ Drift(max_drift=(0.1, 0.5)) @ 0.8  # with 80% probability, random drift the signal up to 10% - 50%\n",
        "     + Reverse() @ 0.5  # with 50% probability, reverse the sequence\n",
        "     )\n",
        "'''"
      ],
      "execution_count": 729,
      "outputs": [
        {
          "output_type": "execute_result",
          "data": {
            "application/vnd.google.colaboratory.intrinsic+json": {
              "type": "string"
            },
            "text/plain": [
              "'from tsaug.visualization import plot\\n\\nmy_augmenter = (\\n     TimeWarp() # random time warping 5 times in parallel\\n     #+ Crop(size=serie_length)  # random crop subsequences with length 300\\n     #+ Quantize(n_levels=[10, 20, 30])  # random quantize to 10-, 20-, or 30- level sets\\n     #+ Drift(max_drift=(0.1, 0.5)) @ 0.8  # with 80% probability, random drift the signal up to 10% - 50%\\n     + Reverse() @ 0.5  # with 50% probability, reverse the sequence\\n     )\\n'"
            ]
          },
          "metadata": {
            "tags": []
          },
          "execution_count": 729
        }
      ]
    },
    {
      "cell_type": "code",
      "metadata": {
        "colab": {
          "base_uri": "https://localhost:8080/",
          "height": 0
        },
        "id": "uzts1gtr72g4",
        "outputId": "09d9c936-05a5-4f50-9062-85c1d9fcccc9"
      },
      "source": [
        "'''train_augmented  = [serie for serie in train_data]\n",
        "labels_augmented = [label for label in train_labels]\n",
        "\n",
        "for serie, label in zip(train_data, train_labels):\n",
        "    #for augmented in my_augmenter.augment(serie):\n",
        "    train_augmented.append(my_augmenter.augment(serie)) \n",
        "    labels_augmented.append(label)\n",
        "'''"
      ],
      "execution_count": 730,
      "outputs": [
        {
          "output_type": "execute_result",
          "data": {
            "application/vnd.google.colaboratory.intrinsic+json": {
              "type": "string"
            },
            "text/plain": [
              "'train_augmented  = [serie for serie in train_data]\\nlabels_augmented = [label for label in train_labels]\\n\\nfor serie, label in zip(train_data, train_labels):\\n    #for augmented in my_augmenter.augment(serie):\\n    train_augmented.append(my_augmenter.augment(serie)) \\n    labels_augmented.append(label)\\n'"
            ]
          },
          "metadata": {
            "tags": []
          },
          "execution_count": 730
        }
      ]
    },
    {
      "cell_type": "code",
      "metadata": {
        "colab": {
          "base_uri": "https://localhost:8080/",
          "height": 0
        },
        "id": "-vvBj5UQ_LAA",
        "outputId": "161bb7a9-d017-4d20-f95b-221e010bae9d"
      },
      "source": [
        "'''train_data   = np.array(train_augmented)\n",
        "train_labels = np.array(labels_augmented)\n",
        "'''"
      ],
      "execution_count": 731,
      "outputs": [
        {
          "output_type": "execute_result",
          "data": {
            "application/vnd.google.colaboratory.intrinsic+json": {
              "type": "string"
            },
            "text/plain": [
              "'train_data   = np.array(train_augmented)\\ntrain_labels = np.array(labels_augmented)\\n'"
            ]
          },
          "metadata": {
            "tags": []
          },
          "execution_count": 731
        }
      ]
    },
    {
      "cell_type": "markdown",
      "metadata": {
        "id": "xN321UgU65OF"
      },
      "source": [
        "## Shuffle and Casting"
      ]
    },
    {
      "cell_type": "code",
      "metadata": {
        "id": "-ZMtoT-66pyr"
      },
      "source": [
        "# Shuffle train\n",
        "shuffle_idx   = np.random.RandomState(seed=42).permutation((len(train_data)))\n",
        "train_data    = np.array(train_data)[shuffle_idx]\n",
        "train_labels  = np.array(train_labels)[shuffle_idx]\n",
        "\n",
        "train_data = tf.cast(train_data, tf.float32)\n",
        "val_data   = tf.cast(val_data , tf.float32)\n",
        "test_data  = tf.cast(test_data , tf.float32)\n",
        "\n",
        "train_data = tf.expand_dims(train_data, axis=-1)\n",
        "val_data   = tf.expand_dims(val_data,   axis=-1)\n",
        "test_data  = tf.expand_dims(test_data , axis=-1)"
      ],
      "execution_count": 732,
      "outputs": []
    },
    {
      "cell_type": "markdown",
      "metadata": {
        "id": "ZEzoNBH_kR9i"
      },
      "source": [
        "# CNN Model"
      ]
    },
    {
      "cell_type": "code",
      "metadata": {
        "id": "5cn6tBDyPwGh"
      },
      "source": [
        "# Convolutional Autoencoder with MaxPooling:\n",
        "class CNN(tf.keras.Model):\n",
        "    def __init__(self, num_classes): #, serie_length):\n",
        "        super(CNN, self).__init__()\n",
        "        self.conv_1  = Conv1D(  filters=32, #32\n",
        "                                kernel_size=10,\n",
        "                                padding='same', \n",
        "                                kernel_initializer=\"he_uniform\", \n",
        "                                kernel_regularizer=keras.regularizers.l2(1e-2)\n",
        "                             )\n",
        "\n",
        "        self.gn_1    = tfa.layers.GroupNormalization(32)\n",
        "        #self.bn_1    = BatchNormalization()\n",
        "        self.act_1   = Activation('relu')\n",
        "        self.max_1   = MaxPooling1D(2)\n",
        "        \n",
        "        self.conv_2  = Conv1D(  filters=32, #32 \n",
        "                                kernel_size=10,\n",
        "                                padding='same',\n",
        "                                kernel_initializer=\"he_uniform\", \n",
        "                                kernel_regularizer=keras.regularizers.l2(1e-2)\n",
        "                             )\n",
        "\n",
        "        self.gn_2    = tfa.layers.GroupNormalization(32)\n",
        "        #self.bn_2    = BatchNormalization()\n",
        "        self.act_2   = Activation('relu')\n",
        "        self.max_2   = MaxPooling1D(2)\n",
        "        \n",
        "        self.conv_3  = Conv1D(  filters=64, #64\n",
        "                                kernel_size=5,\n",
        "                                padding='same',\n",
        "                                kernel_initializer=\"he_uniform\", \n",
        "                                kernel_regularizer=keras.regularizers.l2(1e-2)\n",
        "                             )\n",
        "                            \n",
        "        self.gn_3    = tfa.layers.GroupNormalization(32)\n",
        "        #self.bn_3    = BatchNormalization()\n",
        "        self.act_3   = Activation('relu')\n",
        "        self.max_3   = MaxPooling1D(2)\n",
        "\n",
        "        self.conv_4  = Conv1D(  filters=64, #128 \n",
        "                                kernel_size=3,\n",
        "                                padding='same',\n",
        "                                kernel_initializer=\"he_uniform\", \n",
        "                                kernel_regularizer=keras.regularizers.l2(1e-2)\n",
        "                             )\n",
        "                            \n",
        "        self.gn_4    = tfa.layers.GroupNormalization(32)\n",
        "        #self.bn_4    = BatchNormalization()\n",
        "        self.act_4   = Activation('relu')\n",
        "        self.max_4   = MaxPooling1D(2)\n",
        "\n",
        "        self.flatten = Flatten()\n",
        "        \n",
        "        self.dense_1 = Dense(128, activation='relu',\n",
        "                            kernel_initializer=\"he_uniform\", \n",
        "                            kernel_regularizer=keras.regularizers.l2(1e-2)\n",
        "                            )\n",
        "                            \n",
        "        self.drop_5  = dropout = Dropout(0.5)\n",
        "\n",
        "        self.clf     = Dense(num_classes)#, activation='softmax')\n",
        "\n",
        "    def call(self, inputs):\n",
        "        x = self.conv_1(inputs)\n",
        "        x = self.gn_1(x)\n",
        "        #x = self.bn_1(x)\n",
        "        x = self.act_1(x)\n",
        "        x = self.max_1(x)\n",
        "\n",
        "        x = self.conv_2(x)\n",
        "        x = self.gn_2(x)\n",
        "        #x = self.bn_2(x)\n",
        "        x = self.act_2(x)\n",
        "        x = self.max_2(x)\n",
        "\n",
        "        x = self.conv_3(x)\n",
        "        x = self.gn_3(x)\n",
        "        #x = self.bn_3(x)\n",
        "        x = self.act_3(x)\n",
        "        x = self.max_3(x)\n",
        "\n",
        "        x = self.conv_4(x)\n",
        "        x = self.gn_4(x)\n",
        "        #x = self.bn_4(x)\n",
        "        x = self.act_4(x)\n",
        "        x = self.max_4(x)\n",
        "        \n",
        "        x = self.flatten(x)\n",
        "        \n",
        "        x = self.dense_1(x)\n",
        "        x = self.drop_5(x)\n",
        "        \n",
        "        return self.clf(x)\n",
        "\n",
        "    def model(self):\n",
        "        x = keras.layers.Input(shape=(serie_length, 1))\n",
        "        return tf.keras.Model(inputs=[x], outputs=self.call(x))"
      ],
      "execution_count": 733,
      "outputs": []
    },
    {
      "cell_type": "code",
      "metadata": {
        "id": "NjYxvzzTqK2A"
      },
      "source": [
        "cnn = CNN(num_classes)"
      ],
      "execution_count": 734,
      "outputs": []
    },
    {
      "cell_type": "code",
      "metadata": {
        "colab": {
          "base_uri": "https://localhost:8080/"
        },
        "id": "wH-TZxyH2Wps",
        "outputId": "1007fe4e-03de-4dd4-c2b3-09182e9d3dbc"
      },
      "source": [
        "cnn.model().summary()"
      ],
      "execution_count": 735,
      "outputs": [
        {
          "output_type": "stream",
          "text": [
            "Model: \"model_50\"\n",
            "_________________________________________________________________\n",
            "Layer (type)                 Output Shape              Param #   \n",
            "=================================================================\n",
            "input_51 (InputLayer)        [(None, 2709, 1)]         0         \n",
            "_________________________________________________________________\n",
            "conv1d_200 (Conv1D)          (None, 2709, 32)          352       \n",
            "_________________________________________________________________\n",
            "group_normalization_200 (Gro (None, 2709, 32)          64        \n",
            "_________________________________________________________________\n",
            "activation_200 (Activation)  (None, 2709, 32)          0         \n",
            "_________________________________________________________________\n",
            "max_pooling1d_200 (MaxPoolin (None, 1354, 32)          0         \n",
            "_________________________________________________________________\n",
            "conv1d_201 (Conv1D)          (None, 1354, 32)          10272     \n",
            "_________________________________________________________________\n",
            "group_normalization_201 (Gro (None, 1354, 32)          64        \n",
            "_________________________________________________________________\n",
            "activation_201 (Activation)  (None, 1354, 32)          0         \n",
            "_________________________________________________________________\n",
            "max_pooling1d_201 (MaxPoolin (None, 677, 32)           0         \n",
            "_________________________________________________________________\n",
            "conv1d_202 (Conv1D)          (None, 677, 64)           10304     \n",
            "_________________________________________________________________\n",
            "group_normalization_202 (Gro (None, 677, 64)           128       \n",
            "_________________________________________________________________\n",
            "activation_202 (Activation)  (None, 677, 64)           0         \n",
            "_________________________________________________________________\n",
            "max_pooling1d_202 (MaxPoolin (None, 338, 64)           0         \n",
            "_________________________________________________________________\n",
            "conv1d_203 (Conv1D)          (None, 338, 64)           12352     \n",
            "_________________________________________________________________\n",
            "group_normalization_203 (Gro (None, 338, 64)           128       \n",
            "_________________________________________________________________\n",
            "activation_203 (Activation)  (None, 338, 64)           0         \n",
            "_________________________________________________________________\n",
            "max_pooling1d_203 (MaxPoolin (None, 169, 64)           0         \n",
            "_________________________________________________________________\n",
            "flatten_50 (Flatten)         (None, 10816)             0         \n",
            "_________________________________________________________________\n",
            "dense_100 (Dense)            (None, 128)               1384576   \n",
            "_________________________________________________________________\n",
            "dropout_50 (Dropout)         (None, 128)               0         \n",
            "_________________________________________________________________\n",
            "dense_101 (Dense)            (None, 2)                 258       \n",
            "=================================================================\n",
            "Total params: 1,418,498\n",
            "Trainable params: 1,418,498\n",
            "Non-trainable params: 0\n",
            "_________________________________________________________________\n"
          ],
          "name": "stdout"
        }
      ]
    },
    {
      "cell_type": "markdown",
      "metadata": {
        "id": "PvRRoDZmkjsf"
      },
      "source": [
        "# Train"
      ]
    },
    {
      "cell_type": "code",
      "metadata": {
        "id": "4uIZgOJFWXHu",
        "colab": {
          "base_uri": "https://localhost:8080/"
        },
        "outputId": "21248156-5ba8-4768-c230-120a525977b3"
      },
      "source": [
        "initial_learning_rate = 1e-3\n",
        "lr_schedule = tf.keras.optimizers.schedules.ExponentialDecay(\n",
        "    initial_learning_rate,\n",
        "    decay_steps = 65,\n",
        "    decay_rate = 0.9,\n",
        "    staircase = False\n",
        ")\n",
        "\n",
        "my_callbacks = [\n",
        "        keras.callbacks.EarlyStopping(monitor='val_loss', patience=5),\n",
        "        keras.callbacks.ModelCheckpoint(save_best_only=True,\n",
        "                                        filepath='best_model.h5',\n",
        "                                        save_weights_only=True,\n",
        "                                        monitor='val_loss'\n",
        "                                        ),\n",
        "        #keras.callbacks.ReduceLROnPlateau(monitor='val_accuracy',patience=5,\n",
        "        #                                  min_lr=1e-4, factor=0.1)\n",
        "]\n",
        "\n",
        "cnn.compile(optimizer=keras.optimizers.Adam(learning_rate=lr_schedule),\n",
        "            loss=keras.losses.SparseCategoricalCrossentropy(from_logits=True),\n",
        "                                       #'sparse_categorical_crossentropy',\n",
        "            metrics=['accuracy'])\n",
        "\n",
        "batch_size = 128\n",
        "epochs = 100\n",
        "\n",
        "history = cnn.fit(train_data, train_labels, \n",
        "          epochs=epochs,\n",
        "          batch_size=batch_size,\n",
        "          validation_data=(val_data, val_labels),\n",
        "          callbacks=my_callbacks)\n",
        "cnn.load_weights('best_model.h5')"
      ],
      "execution_count": 736,
      "outputs": [
        {
          "output_type": "stream",
          "text": [
            "Epoch 1/100\n",
            "6/6 [==============================] - 2s 132ms/step - loss: 9.1513 - accuracy: 0.5253 - val_loss: 7.6235 - val_accuracy: 0.6280\n",
            "Epoch 2/100\n",
            "6/6 [==============================] - 0s 47ms/step - loss: 6.6296 - accuracy: 0.6613 - val_loss: 5.7901 - val_accuracy: 0.7440\n",
            "Epoch 3/100\n",
            "6/6 [==============================] - 0s 47ms/step - loss: 5.5457 - accuracy: 0.7747 - val_loss: 5.3362 - val_accuracy: 0.7600\n",
            "Epoch 4/100\n",
            "6/6 [==============================] - 0s 46ms/step - loss: 5.1652 - accuracy: 0.8093 - val_loss: 5.1294 - val_accuracy: 0.7600\n",
            "Epoch 5/100\n",
            "6/6 [==============================] - 0s 46ms/step - loss: 4.9606 - accuracy: 0.8480 - val_loss: 4.9480 - val_accuracy: 0.8040\n",
            "Epoch 6/100\n",
            "6/6 [==============================] - 0s 45ms/step - loss: 4.8194 - accuracy: 0.8507 - val_loss: 4.8600 - val_accuracy: 0.7800\n",
            "Epoch 7/100\n",
            "6/6 [==============================] - 0s 53ms/step - loss: 4.7024 - accuracy: 0.8627 - val_loss: 4.7159 - val_accuracy: 0.8120\n",
            "Epoch 8/100\n",
            "6/6 [==============================] - 0s 54ms/step - loss: 4.5791 - accuracy: 0.8627 - val_loss: 4.6106 - val_accuracy: 0.8200\n",
            "Epoch 9/100\n",
            "6/6 [==============================] - 0s 46ms/step - loss: 4.4618 - accuracy: 0.8587 - val_loss: 4.5139 - val_accuracy: 0.8320\n",
            "Epoch 10/100\n",
            "6/6 [==============================] - 0s 47ms/step - loss: 4.3496 - accuracy: 0.8733 - val_loss: 4.3772 - val_accuracy: 0.8320\n",
            "Epoch 11/100\n",
            "6/6 [==============================] - 0s 47ms/step - loss: 4.2727 - accuracy: 0.8787 - val_loss: 4.2720 - val_accuracy: 0.8320\n",
            "Epoch 12/100\n",
            "6/6 [==============================] - 0s 47ms/step - loss: 4.1582 - accuracy: 0.8773 - val_loss: 4.1914 - val_accuracy: 0.8400\n",
            "Epoch 13/100\n",
            "6/6 [==============================] - 0s 46ms/step - loss: 4.0777 - accuracy: 0.8733 - val_loss: 4.0919 - val_accuracy: 0.8360\n",
            "Epoch 14/100\n",
            "6/6 [==============================] - 0s 53ms/step - loss: 3.9907 - accuracy: 0.8813 - val_loss: 4.0383 - val_accuracy: 0.8200\n",
            "Epoch 15/100\n",
            "6/6 [==============================] - 0s 48ms/step - loss: 3.9277 - accuracy: 0.8667 - val_loss: 3.9724 - val_accuracy: 0.8160\n",
            "Epoch 16/100\n",
            "6/6 [==============================] - 0s 46ms/step - loss: 3.8341 - accuracy: 0.8760 - val_loss: 3.8520 - val_accuracy: 0.8280\n",
            "Epoch 17/100\n",
            "6/6 [==============================] - 0s 46ms/step - loss: 3.7567 - accuracy: 0.8680 - val_loss: 3.7923 - val_accuracy: 0.8280\n",
            "Epoch 18/100\n",
            "6/6 [==============================] - 0s 46ms/step - loss: 3.6766 - accuracy: 0.8773 - val_loss: 3.7537 - val_accuracy: 0.8360\n",
            "Epoch 19/100\n",
            "6/6 [==============================] - 0s 47ms/step - loss: 3.6173 - accuracy: 0.8760 - val_loss: 3.6947 - val_accuracy: 0.8280\n",
            "Epoch 20/100\n",
            "6/6 [==============================] - 1s 105ms/step - loss: 3.5517 - accuracy: 0.8773 - val_loss: 3.5954 - val_accuracy: 0.8400\n",
            "Epoch 21/100\n",
            "6/6 [==============================] - 0s 46ms/step - loss: 3.4686 - accuracy: 0.8787 - val_loss: 3.5103 - val_accuracy: 0.8360\n",
            "Epoch 22/100\n",
            "6/6 [==============================] - 0s 48ms/step - loss: 3.4009 - accuracy: 0.8840 - val_loss: 3.4498 - val_accuracy: 0.8520\n",
            "Epoch 23/100\n",
            "6/6 [==============================] - 0s 46ms/step - loss: 3.3481 - accuracy: 0.8853 - val_loss: 3.3701 - val_accuracy: 0.8440\n",
            "Epoch 24/100\n",
            "6/6 [==============================] - 0s 47ms/step - loss: 3.2718 - accuracy: 0.8800 - val_loss: 3.3317 - val_accuracy: 0.8400\n",
            "Epoch 25/100\n",
            "6/6 [==============================] - 0s 47ms/step - loss: 3.2037 - accuracy: 0.8960 - val_loss: 3.2663 - val_accuracy: 0.8360\n",
            "Epoch 26/100\n",
            "6/6 [==============================] - 0s 47ms/step - loss: 3.1576 - accuracy: 0.8827 - val_loss: 3.1885 - val_accuracy: 0.8440\n",
            "Epoch 27/100\n",
            "6/6 [==============================] - 0s 46ms/step - loss: 3.0773 - accuracy: 0.8867 - val_loss: 3.1512 - val_accuracy: 0.8400\n",
            "Epoch 28/100\n",
            "6/6 [==============================] - 0s 45ms/step - loss: 3.0421 - accuracy: 0.8973 - val_loss: 3.0856 - val_accuracy: 0.8560\n",
            "Epoch 29/100\n",
            "6/6 [==============================] - 0s 53ms/step - loss: 2.9916 - accuracy: 0.8880 - val_loss: 3.0468 - val_accuracy: 0.8440\n",
            "Epoch 30/100\n",
            "6/6 [==============================] - 0s 46ms/step - loss: 2.9349 - accuracy: 0.8880 - val_loss: 2.9938 - val_accuracy: 0.8440\n",
            "Epoch 31/100\n",
            "6/6 [==============================] - 0s 47ms/step - loss: 2.8699 - accuracy: 0.8947 - val_loss: 2.9244 - val_accuracy: 0.8480\n",
            "Epoch 32/100\n",
            "6/6 [==============================] - 0s 47ms/step - loss: 2.8399 - accuracy: 0.8787 - val_loss: 2.8814 - val_accuracy: 0.8440\n",
            "Epoch 33/100\n",
            "6/6 [==============================] - 0s 47ms/step - loss: 2.7835 - accuracy: 0.8867 - val_loss: 2.8309 - val_accuracy: 0.8480\n",
            "Epoch 34/100\n",
            "6/6 [==============================] - 0s 46ms/step - loss: 2.7413 - accuracy: 0.8867 - val_loss: 2.7755 - val_accuracy: 0.8680\n",
            "Epoch 35/100\n",
            "6/6 [==============================] - 0s 46ms/step - loss: 2.6940 - accuracy: 0.8933 - val_loss: 2.7461 - val_accuracy: 0.8400\n",
            "Epoch 36/100\n",
            "6/6 [==============================] - 0s 52ms/step - loss: 2.6638 - accuracy: 0.8867 - val_loss: 2.7594 - val_accuracy: 0.8400\n",
            "Epoch 37/100\n",
            "6/6 [==============================] - 0s 53ms/step - loss: 2.6271 - accuracy: 0.8800 - val_loss: 2.6676 - val_accuracy: 0.8440\n",
            "Epoch 38/100\n",
            "6/6 [==============================] - 0s 47ms/step - loss: 2.6077 - accuracy: 0.8773 - val_loss: 2.6196 - val_accuracy: 0.8440\n",
            "Epoch 39/100\n",
            "6/6 [==============================] - 0s 53ms/step - loss: 2.5393 - accuracy: 0.8973 - val_loss: 2.5794 - val_accuracy: 0.8560\n",
            "Epoch 40/100\n",
            "6/6 [==============================] - 0s 47ms/step - loss: 2.5016 - accuracy: 0.8933 - val_loss: 2.5828 - val_accuracy: 0.8440\n",
            "Epoch 41/100\n",
            "6/6 [==============================] - 0s 54ms/step - loss: 2.4560 - accuracy: 0.9040 - val_loss: 2.5162 - val_accuracy: 0.8480\n",
            "Epoch 42/100\n",
            "6/6 [==============================] - 0s 47ms/step - loss: 2.4240 - accuracy: 0.8840 - val_loss: 2.5116 - val_accuracy: 0.8520\n",
            "Epoch 43/100\n",
            "6/6 [==============================] - 0s 47ms/step - loss: 2.3767 - accuracy: 0.8867 - val_loss: 2.4251 - val_accuracy: 0.8400\n",
            "Epoch 44/100\n",
            "6/6 [==============================] - 0s 47ms/step - loss: 2.3377 - accuracy: 0.8880 - val_loss: 2.4030 - val_accuracy: 0.8480\n",
            "Epoch 45/100\n",
            "6/6 [==============================] - 0s 46ms/step - loss: 2.2968 - accuracy: 0.9053 - val_loss: 2.3839 - val_accuracy: 0.8480\n",
            "Epoch 46/100\n",
            "6/6 [==============================] - 0s 47ms/step - loss: 2.2804 - accuracy: 0.8907 - val_loss: 2.3783 - val_accuracy: 0.8440\n",
            "Epoch 47/100\n",
            "6/6 [==============================] - 0s 47ms/step - loss: 2.2622 - accuracy: 0.8920 - val_loss: 2.3510 - val_accuracy: 0.8400\n",
            "Epoch 48/100\n",
            "6/6 [==============================] - 0s 53ms/step - loss: 2.2087 - accuracy: 0.8973 - val_loss: 2.2889 - val_accuracy: 0.8560\n",
            "Epoch 49/100\n",
            "6/6 [==============================] - 0s 47ms/step - loss: 2.1815 - accuracy: 0.8947 - val_loss: 2.2456 - val_accuracy: 0.8480\n",
            "Epoch 50/100\n",
            "6/6 [==============================] - 0s 46ms/step - loss: 2.1353 - accuracy: 0.8973 - val_loss: 2.1988 - val_accuracy: 0.8480\n",
            "Epoch 51/100\n",
            "6/6 [==============================] - 0s 46ms/step - loss: 2.0982 - accuracy: 0.8933 - val_loss: 2.2048 - val_accuracy: 0.8520\n",
            "Epoch 52/100\n",
            "6/6 [==============================] - 0s 47ms/step - loss: 2.0740 - accuracy: 0.9080 - val_loss: 2.2217 - val_accuracy: 0.8480\n",
            "Epoch 53/100\n",
            "6/6 [==============================] - 0s 53ms/step - loss: 2.0609 - accuracy: 0.9080 - val_loss: 2.1430 - val_accuracy: 0.8480\n",
            "Epoch 54/100\n",
            "6/6 [==============================] - 0s 46ms/step - loss: 2.0356 - accuracy: 0.8920 - val_loss: 2.1066 - val_accuracy: 0.8600\n",
            "Epoch 55/100\n",
            "6/6 [==============================] - 0s 53ms/step - loss: 1.9975 - accuracy: 0.9067 - val_loss: 2.1461 - val_accuracy: 0.8440\n",
            "Epoch 56/100\n",
            "6/6 [==============================] - 0s 46ms/step - loss: 1.9801 - accuracy: 0.9120 - val_loss: 2.0477 - val_accuracy: 0.8720\n",
            "Epoch 57/100\n",
            "6/6 [==============================] - 0s 47ms/step - loss: 1.9360 - accuracy: 0.9133 - val_loss: 2.0360 - val_accuracy: 0.8560\n",
            "Epoch 58/100\n",
            "6/6 [==============================] - 0s 54ms/step - loss: 1.9053 - accuracy: 0.9147 - val_loss: 2.0113 - val_accuracy: 0.8520\n",
            "Epoch 59/100\n",
            "6/6 [==============================] - 0s 47ms/step - loss: 1.8726 - accuracy: 0.9213 - val_loss: 1.9816 - val_accuracy: 0.8640\n",
            "Epoch 60/100\n",
            "6/6 [==============================] - 0s 46ms/step - loss: 1.8482 - accuracy: 0.9133 - val_loss: 1.9835 - val_accuracy: 0.8560\n",
            "Epoch 61/100\n",
            "6/6 [==============================] - 0s 53ms/step - loss: 1.8387 - accuracy: 0.9013 - val_loss: 1.9296 - val_accuracy: 0.8560\n",
            "Epoch 62/100\n",
            "6/6 [==============================] - 0s 47ms/step - loss: 1.8056 - accuracy: 0.9120 - val_loss: 1.9441 - val_accuracy: 0.8520\n",
            "Epoch 63/100\n",
            "6/6 [==============================] - 0s 47ms/step - loss: 1.7885 - accuracy: 0.9107 - val_loss: 1.9801 - val_accuracy: 0.8360\n",
            "Epoch 64/100\n",
            "6/6 [==============================] - 0s 46ms/step - loss: 1.7922 - accuracy: 0.9040 - val_loss: 1.8605 - val_accuracy: 0.8720\n",
            "Epoch 65/100\n",
            "6/6 [==============================] - 0s 46ms/step - loss: 1.7554 - accuracy: 0.9173 - val_loss: 1.8785 - val_accuracy: 0.8480\n",
            "Epoch 66/100\n",
            "6/6 [==============================] - 0s 46ms/step - loss: 1.7459 - accuracy: 0.9013 - val_loss: 1.8503 - val_accuracy: 0.8520\n",
            "Epoch 67/100\n",
            "6/6 [==============================] - 0s 46ms/step - loss: 1.7135 - accuracy: 0.9013 - val_loss: 1.8164 - val_accuracy: 0.8520\n",
            "Epoch 68/100\n",
            "6/6 [==============================] - 0s 46ms/step - loss: 1.7070 - accuracy: 0.8960 - val_loss: 1.8097 - val_accuracy: 0.8520\n",
            "Epoch 69/100\n",
            "6/6 [==============================] - 0s 48ms/step - loss: 1.6745 - accuracy: 0.8987 - val_loss: 1.7714 - val_accuracy: 0.8680\n",
            "Epoch 70/100\n",
            "6/6 [==============================] - 0s 53ms/step - loss: 1.6596 - accuracy: 0.9013 - val_loss: 1.7511 - val_accuracy: 0.8760\n",
            "Epoch 71/100\n",
            "6/6 [==============================] - 0s 46ms/step - loss: 1.6152 - accuracy: 0.9267 - val_loss: 1.7402 - val_accuracy: 0.8680\n",
            "Epoch 72/100\n",
            "6/6 [==============================] - 0s 47ms/step - loss: 1.5940 - accuracy: 0.9213 - val_loss: 1.7689 - val_accuracy: 0.8680\n",
            "Epoch 73/100\n",
            "6/6 [==============================] - 0s 47ms/step - loss: 1.5900 - accuracy: 0.9147 - val_loss: 1.7109 - val_accuracy: 0.8680\n",
            "Epoch 74/100\n",
            "6/6 [==============================] - 0s 46ms/step - loss: 1.5793 - accuracy: 0.9013 - val_loss: 1.6805 - val_accuracy: 0.8480\n",
            "Epoch 75/100\n",
            "6/6 [==============================] - 0s 48ms/step - loss: 1.5717 - accuracy: 0.9040 - val_loss: 1.7287 - val_accuracy: 0.8640\n",
            "Epoch 76/100\n",
            "6/6 [==============================] - 0s 47ms/step - loss: 1.5428 - accuracy: 0.9160 - val_loss: 1.6835 - val_accuracy: 0.8640\n",
            "Epoch 77/100\n",
            "6/6 [==============================] - 0s 46ms/step - loss: 1.5106 - accuracy: 0.9147 - val_loss: 1.6462 - val_accuracy: 0.8560\n",
            "Epoch 78/100\n",
            "6/6 [==============================] - 0s 46ms/step - loss: 1.4981 - accuracy: 0.9253 - val_loss: 1.6231 - val_accuracy: 0.8680\n",
            "Epoch 79/100\n",
            "6/6 [==============================] - 0s 48ms/step - loss: 1.4923 - accuracy: 0.9160 - val_loss: 1.6306 - val_accuracy: 0.8640\n",
            "Epoch 80/100\n",
            "6/6 [==============================] - 0s 48ms/step - loss: 1.4627 - accuracy: 0.9253 - val_loss: 1.5977 - val_accuracy: 0.8720\n",
            "Epoch 81/100\n",
            "6/6 [==============================] - 0s 53ms/step - loss: 1.4471 - accuracy: 0.9253 - val_loss: 1.5868 - val_accuracy: 0.8600\n",
            "Epoch 82/100\n",
            "6/6 [==============================] - 0s 53ms/step - loss: 1.4329 - accuracy: 0.9227 - val_loss: 1.5671 - val_accuracy: 0.8680\n",
            "Epoch 83/100\n",
            "6/6 [==============================] - 0s 46ms/step - loss: 1.4157 - accuracy: 0.9173 - val_loss: 1.5519 - val_accuracy: 0.8560\n",
            "Epoch 84/100\n",
            "6/6 [==============================] - 0s 52ms/step - loss: 1.4190 - accuracy: 0.9200 - val_loss: 1.5459 - val_accuracy: 0.8560\n",
            "Epoch 85/100\n",
            "6/6 [==============================] - 0s 47ms/step - loss: 1.3912 - accuracy: 0.9293 - val_loss: 1.5506 - val_accuracy: 0.8560\n",
            "Epoch 86/100\n",
            "6/6 [==============================] - 0s 46ms/step - loss: 1.3789 - accuracy: 0.9120 - val_loss: 1.5075 - val_accuracy: 0.8680\n",
            "Epoch 87/100\n",
            "6/6 [==============================] - 0s 47ms/step - loss: 1.3727 - accuracy: 0.9160 - val_loss: 1.5090 - val_accuracy: 0.8560\n",
            "Epoch 88/100\n",
            "6/6 [==============================] - 0s 46ms/step - loss: 1.3489 - accuracy: 0.9267 - val_loss: 1.4831 - val_accuracy: 0.8760\n",
            "Epoch 89/100\n",
            "6/6 [==============================] - 0s 47ms/step - loss: 1.3462 - accuracy: 0.9267 - val_loss: 1.5021 - val_accuracy: 0.8600\n",
            "Epoch 90/100\n",
            "6/6 [==============================] - 0s 53ms/step - loss: 1.3383 - accuracy: 0.9227 - val_loss: 1.5742 - val_accuracy: 0.8560\n",
            "Epoch 91/100\n",
            "6/6 [==============================] - 0s 47ms/step - loss: 1.3256 - accuracy: 0.9200 - val_loss: 1.4904 - val_accuracy: 0.8480\n",
            "Epoch 92/100\n",
            "6/6 [==============================] - 0s 47ms/step - loss: 1.3140 - accuracy: 0.9187 - val_loss: 1.4542 - val_accuracy: 0.8640\n",
            "Epoch 93/100\n",
            "6/6 [==============================] - 0s 46ms/step - loss: 1.2810 - accuracy: 0.9307 - val_loss: 1.4700 - val_accuracy: 0.8600\n",
            "Epoch 94/100\n",
            "6/6 [==============================] - 0s 52ms/step - loss: 1.2769 - accuracy: 0.9307 - val_loss: 1.4364 - val_accuracy: 0.8520\n",
            "Epoch 95/100\n",
            "6/6 [==============================] - 0s 46ms/step - loss: 1.2655 - accuracy: 0.9227 - val_loss: 1.4300 - val_accuracy: 0.8560\n",
            "Epoch 96/100\n",
            "6/6 [==============================] - 0s 47ms/step - loss: 1.2428 - accuracy: 0.9333 - val_loss: 1.4369 - val_accuracy: 0.8680\n",
            "Epoch 97/100\n",
            "6/6 [==============================] - 0s 53ms/step - loss: 1.2368 - accuracy: 0.9293 - val_loss: 1.3951 - val_accuracy: 0.8840\n",
            "Epoch 98/100\n",
            "6/6 [==============================] - 0s 47ms/step - loss: 1.2244 - accuracy: 0.9320 - val_loss: 1.4162 - val_accuracy: 0.8600\n",
            "Epoch 99/100\n",
            "6/6 [==============================] - 0s 49ms/step - loss: 1.2271 - accuracy: 0.9387 - val_loss: 1.4204 - val_accuracy: 0.8640\n",
            "Epoch 100/100\n",
            "6/6 [==============================] - 0s 53ms/step - loss: 1.2003 - accuracy: 0.9320 - val_loss: 1.3780 - val_accuracy: 0.8720\n"
          ],
          "name": "stdout"
        }
      ]
    },
    {
      "cell_type": "code",
      "metadata": {
        "colab": {
          "base_uri": "https://localhost:8080/",
          "height": 295
        },
        "id": "ZPeYoaKlq5Ky",
        "outputId": "ad8b4150-54bf-4341-d6c1-4e9697e54407"
      },
      "source": [
        "plt.plot(history.history['accuracy'])\n",
        "plt.plot(history.history['val_accuracy'])\n",
        "plt.title('model accuracy')\n",
        "plt.ylabel('accuracy')\n",
        "plt.xlabel('epoch')\n",
        "plt.legend(['train', 'val'], loc='upper left')\n",
        "plt.show()"
      ],
      "execution_count": 737,
      "outputs": [
        {
          "output_type": "display_data",
          "data": {
            "image/png": "[encoded data removed]",
            "text/plain": [
              "<Figure size 432x288 with 1 Axes>"
            ]
          },
          "metadata": {
            "tags": [],
            "needs_background": "light"
          }
        }
      ]
    },
    {
      "cell_type": "code",
      "metadata": {
        "colab": {
          "base_uri": "https://localhost:8080/",
          "height": 295
        },
        "id": "ZprllFEO3SO2",
        "outputId": "0d77e571-787c-4d32-cf4f-707f4fea92de"
      },
      "source": [
        "plt.plot(history.history['loss'])\n",
        "plt.plot(history.history['val_loss'])\n",
        "plt.title('model loss')\n",
        "plt.ylabel('loss')\n",
        "plt.xlabel('epoch')\n",
        "plt.legend(['train', 'val'], loc='upper left')\n",
        "plt.show()"
      ],
      "execution_count": 738,
      "outputs": [
        {
          "output_type": "display_data",
          "data": {
            "image/png": "[encoded data removed]",
            "text/plain": [
              "<Figure size 432x288 with 1 Axes>"
            ]
          },
          "metadata": {
            "tags": [],
            "needs_background": "light"
          }
        }
      ]
    },
    {
      "cell_type": "markdown",
      "metadata": {
        "id": "dLzoyucBklnp"
      },
      "source": [
        "# Test"
      ]
    },
    {
      "cell_type": "code",
      "metadata": {
        "colab": {
          "base_uri": "https://localhost:8080/"
        },
        "id": "EvXvIImscy-_",
        "outputId": "65181f4f-f29a-4390-934b-bb08a7264734"
      },
      "source": [
        "_, acc = cnn.evaluate(test_data, test_labels, verbose = False)\n",
        "\n",
        "print('Accuracy = %.2f' % (acc*100) + '%')"
      ],
      "execution_count": 739,
      "outputs": [
        {
          "output_type": "stream",
          "text": [
            "Accuracy = 91.35%\n"
          ],
          "name": "stdout"
        }
      ]
    }
  ]
}