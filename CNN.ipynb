{
  "nbformat": 4,
  "nbformat_minor": 0,
  "metadata": {
    "colab": {
      "name": "CNN.ipynb",
      "provenance": [],
      "collapsed_sections": [],
      "mount_file_id": "1O6DmDk-YCQVnTMtamJnCJYY08VgiyKfV",
      "authorship_tag": "ABX9TyPAGoz7KTIB8zjYh15a3uKK",
      "include_colab_link": true
    },
    "kernelspec": {
      "name": "python3",
      "display_name": "Python 3"
    },
    "language_info": {
      "name": "python"
    },
    "accelerator": "GPU"
  },
  "cells": [
    {
      "cell_type": "markdown",
      "metadata": {
        "id": "view-in-github",
        "colab_type": "text"
      },
      "source": [
        "<a href=\"https://colab.research.google.com/github/Tyred/TimeSeriesClassification/blob/main/CNN.ipynb\" target=\"_parent\"><img src=\"https://colab.research.google.com/assets/colab-badge.svg\" alt=\"Open In Colab\"/></a>"
      ]
    },
    {
      "cell_type": "markdown",
      "metadata": {
        "id": "315fs7wKPku4"
      },
      "source": [
        "# Imports"
      ]
    },
    {
      "cell_type": "code",
      "metadata": {
        "id": "G27xedc-Pd11"
      },
      "source": [
        "!pip install -q -U tensorflow-addons\n",
        "\n",
        "import numpy as np\n",
        "import matplotlib.pyplot as plt\n",
        "import tensorflow as tf\n",
        "import tensorflow_addons as tfa\n",
        "\n",
        "from sklearn.metrics import accuracy_score, precision_score, recall_score, f1_score\n",
        "from tensorflow import keras\n",
        "\n",
        "from tensorflow.keras.layers import Conv1D, Activation, Dense, Flatten, \\\n",
        "                                    MaxPooling1D, GlobalAveragePooling1D, Dropout\n",
        "%matplotlib inline"
      ],
      "execution_count": 19,
      "outputs": []
    },
    {
      "cell_type": "code",
      "metadata": {
        "id": "5cn6tBDyPwGh"
      },
      "source": [
        "# Convolutional Autoencoder with MaxPooling:\n",
        "class CNN(tf.keras.Model):\n",
        "    def __init__(self, num_classes): #, serie_length):\n",
        "        super(CNN, self).__init__()\n",
        "        self.conv_1  = Conv1D(32, 5, activation='swish', padding='same') \n",
        "        self.gn_1    = tfa.layers.GroupNormalization(32)\n",
        "        self.max_1   = MaxPooling1D(2)\n",
        "        self.conv_2  = Conv1D(64, 5, activation='swish', padding='same')\n",
        "        self.gn_2    = tfa.layers.GroupNormalization(32)\n",
        "        self.max_2   = MaxPooling1D(2)\n",
        "        self.conv_3  = Conv1D(128, 5, activation='swish', padding='same')\n",
        "        self.gn_3    = tfa.layers.GroupNormalization(32)\n",
        "        self.max_3   = MaxPooling1D(2)\n",
        "        self.conv_4  = Conv1D(512, 5, activation='swish', padding='same')\n",
        "        self.gn_4    = tfa.layers.GroupNormalization(32)\n",
        "        self.max_4   = MaxPooling1D(2)\n",
        "\n",
        "        self.flatten = Flatten()\n",
        "        self.dense_1 = Dense(256, activation='swish')\n",
        "        self.dropout = dropout = Dropout(0.3)\n",
        "        self.clf     = Dense(num_classes, activation='softmax')\n",
        "     \n",
        "    def call(self, inputs):\n",
        "        x = self.conv_1(inputs)\n",
        "        x = self.gn_1(x)\n",
        "        x = self.max_1(x)\n",
        "\n",
        "        x = self.conv_2(x)\n",
        "        x = self.gn_2(x)\n",
        "        x = self.max_2(x)\n",
        "\n",
        "        x = self.conv_3(x)\n",
        "        x = self.gn_3(x)\n",
        "        x = self.max_3(x)\n",
        "\n",
        "        x = self.conv_4(x)\n",
        "        x = self.gn_4(x)\n",
        "        x = self.max_4(x)\n",
        "\n",
        "        x = self.flatten(x)\n",
        "        x = self.dense_1(x)\n",
        "        x = self.dropout(x)\n",
        "        return self.clf(x)\n",
        "\n",
        "    def model(self):\n",
        "        x = keras.layers.Input(shape=(serie_length, 1))\n",
        "        return tf.keras.Model(inputs=[x], outputs=self.call(x))"
      ],
      "execution_count": 20,
      "outputs": []
    },
    {
      "cell_type": "code",
      "metadata": {
        "colab": {
          "base_uri": "https://localhost:8080/"
        },
        "id": "2YgAD0HHVpGM",
        "outputId": "f4184ce3-7056-4838-d730-eb5391bd2b18"
      },
      "source": [
        "path = 'drive/My Drive/UFSCar/FAPESP/IC/Data/UCRArchive_2018'\n",
        "\n",
        "dataset = input('Dataset: ')\n",
        "tr_data = np.genfromtxt(path + \"/\" + dataset + \"/\" + dataset + \"_TRAIN.tsv\", \n",
        "                        delimiter=\"\\t\",)\n",
        "te_data = np.genfromtxt(path + \"/\" + dataset + \"/\" + dataset + \"_TEST.tsv\", \n",
        "                        delimiter=\"\\t\",)\n",
        "\n",
        "train_labels = np.array([int(label) for label in tr_data[: ,0]]) \n",
        "test_labels  = np.array([int(label) for label in te_data[:, 0]])\n",
        "print(\"Labels:\", np.unique(train_labels))"
      ],
      "execution_count": 21,
      "outputs": [
        {
          "output_type": "stream",
          "text": [
            "Dataset: DistalPhalanxOutlineCorrect\n",
            "Labels: [0 1]\n"
          ],
          "name": "stdout"
        }
      ]
    },
    {
      "cell_type": "code",
      "metadata": {
        "colab": {
          "base_uri": "https://localhost:8080/"
        },
        "id": "Uplualw9VwpR",
        "outputId": "e4c491f1-d719-4913-e94e-458845b3244f"
      },
      "source": [
        "num_classes = len(np.unique(train_labels))\n",
        "\n",
        "train_data  = tr_data[:, 1:] \n",
        "test_data   = te_data[:, 1:]\n",
        "\n",
        "\n",
        "train_data = tf.cast(train_data, tf.float32)\n",
        "test_data  = tf.cast(test_data , tf.float32)\n",
        "\n",
        "train_data = tf.expand_dims(train_data, axis=-1)\n",
        "test_data  = tf.expand_dims(test_data , axis=-1)\n",
        "\n",
        "print(\"Train data shape:\", train_data.shape)\n",
        "print(\"Test data shape:\", test_data.shape)"
      ],
      "execution_count": 22,
      "outputs": [
        {
          "output_type": "stream",
          "text": [
            "Train data shape: (600, 80, 1)\n",
            "Test data shape: (276, 80, 1)\n"
          ],
          "name": "stdout"
        }
      ]
    },
    {
      "cell_type": "code",
      "metadata": {
        "colab": {
          "base_uri": "https://localhost:8080/"
        },
        "id": "4uIZgOJFWXHu",
        "outputId": "ed9fd653-fb09-4d23-d758-08365e9872e2"
      },
      "source": [
        "cnn = CNN(num_classes)\n",
        "cnn.compile(optimizer='adam', loss='sparse_categorical_crossentropy',\n",
        "            metrics=['accuracy'])\n",
        "\n",
        "batch_size = 32\n",
        "epochs = 50\n",
        "\n",
        "history = cnn.fit(train_data, train_labels, \n",
        "          epochs=epochs, \n",
        "          batch_size=batch_size)"
      ],
      "execution_count": 23,
      "outputs": [
        {
          "output_type": "stream",
          "text": [
            "Epoch 1/50\n",
            "19/19 [==============================] - 2s 8ms/step - loss: 2.8995 - accuracy: 0.5467\n",
            "Epoch 2/50\n",
            "19/19 [==============================] - 0s 8ms/step - loss: 0.7292 - accuracy: 0.6467\n",
            "Epoch 3/50\n",
            "19/19 [==============================] - 0s 7ms/step - loss: 0.5897 - accuracy: 0.7017\n",
            "Epoch 4/50\n",
            "19/19 [==============================] - 0s 7ms/step - loss: 0.5636 - accuracy: 0.7133\n",
            "Epoch 5/50\n",
            "19/19 [==============================] - 0s 7ms/step - loss: 0.4769 - accuracy: 0.7750\n",
            "Epoch 6/50\n",
            "19/19 [==============================] - 0s 7ms/step - loss: 0.4981 - accuracy: 0.7717\n",
            "Epoch 7/50\n",
            "19/19 [==============================] - 0s 7ms/step - loss: 0.4554 - accuracy: 0.8000\n",
            "Epoch 8/50\n",
            "19/19 [==============================] - 0s 6ms/step - loss: 0.4570 - accuracy: 0.8067\n",
            "Epoch 9/50\n",
            "19/19 [==============================] - 0s 7ms/step - loss: 0.3927 - accuracy: 0.8167\n",
            "Epoch 10/50\n",
            "19/19 [==============================] - 0s 7ms/step - loss: 0.3814 - accuracy: 0.8367\n",
            "Epoch 11/50\n",
            "19/19 [==============================] - 0s 6ms/step - loss: 0.3727 - accuracy: 0.8417\n",
            "Epoch 12/50\n",
            "19/19 [==============================] - 0s 6ms/step - loss: 0.3667 - accuracy: 0.8500\n",
            "Epoch 13/50\n",
            "19/19 [==============================] - 0s 7ms/step - loss: 0.3479 - accuracy: 0.8700\n",
            "Epoch 14/50\n",
            "19/19 [==============================] - 0s 6ms/step - loss: 0.4113 - accuracy: 0.8233\n",
            "Epoch 15/50\n",
            "19/19 [==============================] - 0s 6ms/step - loss: 0.4172 - accuracy: 0.8317\n",
            "Epoch 16/50\n",
            "19/19 [==============================] - 0s 6ms/step - loss: 0.3145 - accuracy: 0.8650\n",
            "Epoch 17/50\n",
            "19/19 [==============================] - 0s 6ms/step - loss: 0.3527 - accuracy: 0.8417\n",
            "Epoch 18/50\n",
            "19/19 [==============================] - 0s 7ms/step - loss: 0.3417 - accuracy: 0.8550\n",
            "Epoch 19/50\n",
            "19/19 [==============================] - 0s 6ms/step - loss: 0.3163 - accuracy: 0.8617\n",
            "Epoch 20/50\n",
            "19/19 [==============================] - 0s 6ms/step - loss: 0.2745 - accuracy: 0.8683\n",
            "Epoch 21/50\n",
            "19/19 [==============================] - 0s 6ms/step - loss: 0.2610 - accuracy: 0.8900\n",
            "Epoch 22/50\n",
            "19/19 [==============================] - 0s 7ms/step - loss: 0.3469 - accuracy: 0.8400\n",
            "Epoch 23/50\n",
            "19/19 [==============================] - 0s 6ms/step - loss: 0.2763 - accuracy: 0.8867\n",
            "Epoch 24/50\n",
            "19/19 [==============================] - 0s 6ms/step - loss: 0.3054 - accuracy: 0.8733\n",
            "Epoch 25/50\n",
            "19/19 [==============================] - 0s 6ms/step - loss: 0.2542 - accuracy: 0.8983\n",
            "Epoch 26/50\n",
            "19/19 [==============================] - 0s 6ms/step - loss: 0.2058 - accuracy: 0.9200\n",
            "Epoch 27/50\n",
            "19/19 [==============================] - 0s 7ms/step - loss: 0.2282 - accuracy: 0.9083\n",
            "Epoch 28/50\n",
            "19/19 [==============================] - 0s 7ms/step - loss: 0.2936 - accuracy: 0.8883\n",
            "Epoch 29/50\n",
            "19/19 [==============================] - 0s 6ms/step - loss: 0.2207 - accuracy: 0.9133\n",
            "Epoch 30/50\n",
            "19/19 [==============================] - 0s 6ms/step - loss: 0.2122 - accuracy: 0.9217\n",
            "Epoch 31/50\n",
            "19/19 [==============================] - 0s 7ms/step - loss: 0.2072 - accuracy: 0.9117\n",
            "Epoch 32/50\n",
            "19/19 [==============================] - 0s 7ms/step - loss: 0.2017 - accuracy: 0.9183\n",
            "Epoch 33/50\n",
            "19/19 [==============================] - 0s 6ms/step - loss: 0.1834 - accuracy: 0.9350\n",
            "Epoch 34/50\n",
            "19/19 [==============================] - 0s 6ms/step - loss: 0.1766 - accuracy: 0.9300\n",
            "Epoch 35/50\n",
            "19/19 [==============================] - 0s 7ms/step - loss: 0.1650 - accuracy: 0.9167\n",
            "Epoch 36/50\n",
            "19/19 [==============================] - 0s 6ms/step - loss: 0.1585 - accuracy: 0.9467\n",
            "Epoch 37/50\n",
            "19/19 [==============================] - 0s 6ms/step - loss: 0.2319 - accuracy: 0.9100\n",
            "Epoch 38/50\n",
            "19/19 [==============================] - 0s 6ms/step - loss: 0.1620 - accuracy: 0.9417\n",
            "Epoch 39/50\n",
            "19/19 [==============================] - 0s 6ms/step - loss: 0.1607 - accuracy: 0.9283\n",
            "Epoch 40/50\n",
            "19/19 [==============================] - 0s 6ms/step - loss: 0.1541 - accuracy: 0.9300\n",
            "Epoch 41/50\n",
            "19/19 [==============================] - 0s 7ms/step - loss: 0.1199 - accuracy: 0.9567\n",
            "Epoch 42/50\n",
            "19/19 [==============================] - 0s 6ms/step - loss: 0.2383 - accuracy: 0.8983\n",
            "Epoch 43/50\n",
            "19/19 [==============================] - 0s 7ms/step - loss: 0.1985 - accuracy: 0.9183\n",
            "Epoch 44/50\n",
            "19/19 [==============================] - 0s 6ms/step - loss: 0.1281 - accuracy: 0.9583\n",
            "Epoch 45/50\n",
            "19/19 [==============================] - 0s 7ms/step - loss: 0.0800 - accuracy: 0.9783\n",
            "Epoch 46/50\n",
            "19/19 [==============================] - 0s 7ms/step - loss: 0.1602 - accuracy: 0.9450\n",
            "Epoch 47/50\n",
            "19/19 [==============================] - 0s 6ms/step - loss: 0.1165 - accuracy: 0.9617\n",
            "Epoch 48/50\n",
            "19/19 [==============================] - 0s 6ms/step - loss: 0.1344 - accuracy: 0.9467\n",
            "Epoch 49/50\n",
            "19/19 [==============================] - 0s 7ms/step - loss: 0.1631 - accuracy: 0.9233\n",
            "Epoch 50/50\n",
            "19/19 [==============================] - 0s 7ms/step - loss: 0.0916 - accuracy: 0.9650\n"
          ],
          "name": "stdout"
        }
      ]
    },
    {
      "cell_type": "code",
      "metadata": {
        "colab": {
          "base_uri": "https://localhost:8080/"
        },
        "id": "EvXvIImscy-_",
        "outputId": "186a49ba-579e-4af3-c5d8-019310c8f117"
      },
      "source": [
        "_, acc = cnn.evaluate(test_data, test_labels)"
      ],
      "execution_count": 24,
      "outputs": [
        {
          "output_type": "stream",
          "text": [
            "9/9 [==============================] - 0s 10ms/step - loss: 0.8429 - accuracy: 0.7862\n"
          ],
          "name": "stdout"
        }
      ]
    }
  ]
}